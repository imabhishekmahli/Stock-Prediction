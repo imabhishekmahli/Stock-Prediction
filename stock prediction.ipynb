{
 "cells": [
  {
   "cell_type": "code",
   "execution_count": 2,
   "id": "ce9615cb",
   "metadata": {},
   "outputs": [
    {
     "name": "stdout",
     "output_type": "stream",
     "text": [
      "Collecting pandas_datareader\n",
      "  Downloading pandas_datareader-0.10.0-py3-none-any.whl (109 kB)\n",
      "Requirement already satisfied: requests>=2.19.0 in c:\\users\\ushak\\anaconda3\\lib\\site-packages (from pandas_datareader) (2.27.1)\n",
      "Requirement already satisfied: lxml in c:\\users\\ushak\\anaconda3\\lib\\site-packages (from pandas_datareader) (4.8.0)\n",
      "Requirement already satisfied: pandas>=0.23 in c:\\users\\ushak\\anaconda3\\lib\\site-packages (from pandas_datareader) (1.4.2)\n",
      "Requirement already satisfied: python-dateutil>=2.8.1 in c:\\users\\ushak\\anaconda3\\lib\\site-packages (from pandas>=0.23->pandas_datareader) (2.8.2)\n",
      "Requirement already satisfied: pytz>=2020.1 in c:\\users\\ushak\\anaconda3\\lib\\site-packages (from pandas>=0.23->pandas_datareader) (2021.3)\n",
      "Requirement already satisfied: numpy>=1.18.5 in c:\\users\\ushak\\anaconda3\\lib\\site-packages (from pandas>=0.23->pandas_datareader) (1.21.5)\n",
      "Requirement already satisfied: six>=1.5 in c:\\users\\ushak\\anaconda3\\lib\\site-packages (from python-dateutil>=2.8.1->pandas>=0.23->pandas_datareader) (1.16.0)\n",
      "Requirement already satisfied: idna<4,>=2.5 in c:\\users\\ushak\\anaconda3\\lib\\site-packages (from requests>=2.19.0->pandas_datareader) (3.3)\n",
      "Requirement already satisfied: charset-normalizer~=2.0.0 in c:\\users\\ushak\\anaconda3\\lib\\site-packages (from requests>=2.19.0->pandas_datareader) (2.0.4)\n",
      "Requirement already satisfied: urllib3<1.27,>=1.21.1 in c:\\users\\ushak\\anaconda3\\lib\\site-packages (from requests>=2.19.0->pandas_datareader) (1.26.9)\n",
      "Requirement already satisfied: certifi>=2017.4.17 in c:\\users\\ushak\\anaconda3\\lib\\site-packages (from requests>=2.19.0->pandas_datareader) (2021.10.8)\n",
      "Installing collected packages: pandas-datareader\n",
      "Successfully installed pandas-datareader-0.10.0\n",
      "Note: you may need to restart the kernel to use updated packages.\n"
     ]
    }
   ],
   "source": [
    "pip install pandas_datareader"
   ]
  },
  {
   "cell_type": "code",
   "execution_count": 1,
   "id": "59d00dca",
   "metadata": {},
   "outputs": [],
   "source": [
    "import pandas_datareader as pdr"
   ]
  },
  {
   "cell_type": "code",
   "execution_count": 64,
   "id": "3114d6a0",
   "metadata": {},
   "outputs": [
    {
     "name": "stderr",
     "output_type": "stream",
     "text": [
      "C:\\Users\\ushak\\anaconda3\\lib\\site-packages\\pandas_datareader\\tiingo.py:234: FutureWarning: In a future version of pandas all arguments of concat except for the argument 'objs' will be keyword-only.\n",
      "  return pd.concat(dfs, self._concat_axis)\n"
     ]
    }
   ],
   "source": [
    "df = pdr.get_data_tiingo('AAPL', api_key='0c89474b1e03436d07cb645299f24166a58bc8b3')"
   ]
  },
  {
   "cell_type": "code",
   "execution_count": 3,
   "id": "50e4da87",
   "metadata": {},
   "outputs": [],
   "source": [
    "df.to_csv('AAPL.csv')"
   ]
  },
  {
   "cell_type": "code",
   "execution_count": 4,
   "id": "a97a4b37",
   "metadata": {},
   "outputs": [
    {
     "data": {
      "text/html": [
       "<div>\n",
       "<style scoped>\n",
       "    .dataframe tbody tr th:only-of-type {\n",
       "        vertical-align: middle;\n",
       "    }\n",
       "\n",
       "    .dataframe tbody tr th {\n",
       "        vertical-align: top;\n",
       "    }\n",
       "\n",
       "    .dataframe thead th {\n",
       "        text-align: right;\n",
       "    }\n",
       "</style>\n",
       "<table border=\"1\" class=\"dataframe\">\n",
       "  <thead>\n",
       "    <tr style=\"text-align: right;\">\n",
       "      <th></th>\n",
       "      <th></th>\n",
       "      <th>close</th>\n",
       "      <th>high</th>\n",
       "      <th>low</th>\n",
       "      <th>open</th>\n",
       "      <th>volume</th>\n",
       "      <th>adjClose</th>\n",
       "      <th>adjHigh</th>\n",
       "      <th>adjLow</th>\n",
       "      <th>adjOpen</th>\n",
       "      <th>adjVolume</th>\n",
       "      <th>divCash</th>\n",
       "      <th>splitFactor</th>\n",
       "    </tr>\n",
       "    <tr>\n",
       "      <th>symbol</th>\n",
       "      <th>date</th>\n",
       "      <th></th>\n",
       "      <th></th>\n",
       "      <th></th>\n",
       "      <th></th>\n",
       "      <th></th>\n",
       "      <th></th>\n",
       "      <th></th>\n",
       "      <th></th>\n",
       "      <th></th>\n",
       "      <th></th>\n",
       "      <th></th>\n",
       "      <th></th>\n",
       "    </tr>\n",
       "  </thead>\n",
       "  <tbody>\n",
       "    <tr>\n",
       "      <th rowspan=\"5\" valign=\"top\">AAPL</th>\n",
       "      <th>2023-01-18 00:00:00+00:00</th>\n",
       "      <td>135.21</td>\n",
       "      <td>138.610</td>\n",
       "      <td>135.03</td>\n",
       "      <td>136.815</td>\n",
       "      <td>69672800</td>\n",
       "      <td>135.21</td>\n",
       "      <td>138.610</td>\n",
       "      <td>135.03</td>\n",
       "      <td>136.815</td>\n",
       "      <td>69672800</td>\n",
       "      <td>0.0</td>\n",
       "      <td>1.0</td>\n",
       "    </tr>\n",
       "    <tr>\n",
       "      <th>2023-01-19 00:00:00+00:00</th>\n",
       "      <td>135.27</td>\n",
       "      <td>136.250</td>\n",
       "      <td>133.77</td>\n",
       "      <td>134.080</td>\n",
       "      <td>58280413</td>\n",
       "      <td>135.27</td>\n",
       "      <td>136.250</td>\n",
       "      <td>133.77</td>\n",
       "      <td>134.080</td>\n",
       "      <td>58280413</td>\n",
       "      <td>0.0</td>\n",
       "      <td>1.0</td>\n",
       "    </tr>\n",
       "    <tr>\n",
       "      <th>2023-01-20 00:00:00+00:00</th>\n",
       "      <td>137.87</td>\n",
       "      <td>138.020</td>\n",
       "      <td>134.22</td>\n",
       "      <td>135.280</td>\n",
       "      <td>80223626</td>\n",
       "      <td>137.87</td>\n",
       "      <td>138.020</td>\n",
       "      <td>134.22</td>\n",
       "      <td>135.280</td>\n",
       "      <td>80223626</td>\n",
       "      <td>0.0</td>\n",
       "      <td>1.0</td>\n",
       "    </tr>\n",
       "    <tr>\n",
       "      <th>2023-01-23 00:00:00+00:00</th>\n",
       "      <td>141.11</td>\n",
       "      <td>143.315</td>\n",
       "      <td>137.90</td>\n",
       "      <td>138.120</td>\n",
       "      <td>81760313</td>\n",
       "      <td>141.11</td>\n",
       "      <td>143.315</td>\n",
       "      <td>137.90</td>\n",
       "      <td>138.120</td>\n",
       "      <td>81760313</td>\n",
       "      <td>0.0</td>\n",
       "      <td>1.0</td>\n",
       "    </tr>\n",
       "    <tr>\n",
       "      <th>2023-01-24 00:00:00+00:00</th>\n",
       "      <td>142.53</td>\n",
       "      <td>143.160</td>\n",
       "      <td>140.30</td>\n",
       "      <td>140.305</td>\n",
       "      <td>66435142</td>\n",
       "      <td>142.53</td>\n",
       "      <td>143.160</td>\n",
       "      <td>140.30</td>\n",
       "      <td>140.305</td>\n",
       "      <td>66435142</td>\n",
       "      <td>0.0</td>\n",
       "      <td>1.0</td>\n",
       "    </tr>\n",
       "  </tbody>\n",
       "</table>\n",
       "</div>"
      ],
      "text/plain": [
       "                                   close     high     low     open    volume  \\\n",
       "symbol date                                                                    \n",
       "AAPL   2023-01-18 00:00:00+00:00  135.21  138.610  135.03  136.815  69672800   \n",
       "       2023-01-19 00:00:00+00:00  135.27  136.250  133.77  134.080  58280413   \n",
       "       2023-01-20 00:00:00+00:00  137.87  138.020  134.22  135.280  80223626   \n",
       "       2023-01-23 00:00:00+00:00  141.11  143.315  137.90  138.120  81760313   \n",
       "       2023-01-24 00:00:00+00:00  142.53  143.160  140.30  140.305  66435142   \n",
       "\n",
       "                                  adjClose  adjHigh  adjLow  adjOpen  \\\n",
       "symbol date                                                            \n",
       "AAPL   2023-01-18 00:00:00+00:00    135.21  138.610  135.03  136.815   \n",
       "       2023-01-19 00:00:00+00:00    135.27  136.250  133.77  134.080   \n",
       "       2023-01-20 00:00:00+00:00    137.87  138.020  134.22  135.280   \n",
       "       2023-01-23 00:00:00+00:00    141.11  143.315  137.90  138.120   \n",
       "       2023-01-24 00:00:00+00:00    142.53  143.160  140.30  140.305   \n",
       "\n",
       "                                  adjVolume  divCash  splitFactor  \n",
       "symbol date                                                        \n",
       "AAPL   2023-01-18 00:00:00+00:00   69672800      0.0          1.0  \n",
       "       2023-01-19 00:00:00+00:00   58280413      0.0          1.0  \n",
       "       2023-01-20 00:00:00+00:00   80223626      0.0          1.0  \n",
       "       2023-01-23 00:00:00+00:00   81760313      0.0          1.0  \n",
       "       2023-01-24 00:00:00+00:00   66435142      0.0          1.0  "
      ]
     },
     "execution_count": 4,
     "metadata": {},
     "output_type": "execute_result"
    }
   ],
   "source": [
    "df.tail()"
   ]
  },
  {
   "cell_type": "code",
   "execution_count": 5,
   "id": "d16db5ae",
   "metadata": {},
   "outputs": [],
   "source": [
    "import pandas as pd"
   ]
  },
  {
   "cell_type": "code",
   "execution_count": 6,
   "id": "737ef5d8",
   "metadata": {},
   "outputs": [],
   "source": [
    "df = pd.read_csv('AAPL.csv')"
   ]
  },
  {
   "cell_type": "code",
   "execution_count": 7,
   "id": "4baa1c5f",
   "metadata": {},
   "outputs": [
    {
     "data": {
      "text/html": [
       "<div>\n",
       "<style scoped>\n",
       "    .dataframe tbody tr th:only-of-type {\n",
       "        vertical-align: middle;\n",
       "    }\n",
       "\n",
       "    .dataframe tbody tr th {\n",
       "        vertical-align: top;\n",
       "    }\n",
       "\n",
       "    .dataframe thead th {\n",
       "        text-align: right;\n",
       "    }\n",
       "</style>\n",
       "<table border=\"1\" class=\"dataframe\">\n",
       "  <thead>\n",
       "    <tr style=\"text-align: right;\">\n",
       "      <th></th>\n",
       "      <th>symbol</th>\n",
       "      <th>date</th>\n",
       "      <th>close</th>\n",
       "      <th>high</th>\n",
       "      <th>low</th>\n",
       "      <th>open</th>\n",
       "      <th>volume</th>\n",
       "      <th>adjClose</th>\n",
       "      <th>adjHigh</th>\n",
       "      <th>adjLow</th>\n",
       "      <th>adjOpen</th>\n",
       "      <th>adjVolume</th>\n",
       "      <th>divCash</th>\n",
       "      <th>splitFactor</th>\n",
       "    </tr>\n",
       "  </thead>\n",
       "  <tbody>\n",
       "    <tr>\n",
       "      <th>0</th>\n",
       "      <td>AAPL</td>\n",
       "      <td>2018-01-26 00:00:00+00:00</td>\n",
       "      <td>171.51</td>\n",
       "      <td>172.000</td>\n",
       "      <td>170.06</td>\n",
       "      <td>172.000</td>\n",
       "      <td>37121805</td>\n",
       "      <td>40.718845</td>\n",
       "      <td>40.835178</td>\n",
       "      <td>40.374595</td>\n",
       "      <td>40.835178</td>\n",
       "      <td>148487220</td>\n",
       "      <td>0.0</td>\n",
       "      <td>1.0</td>\n",
       "    </tr>\n",
       "    <tr>\n",
       "      <th>1</th>\n",
       "      <td>AAPL</td>\n",
       "      <td>2018-01-29 00:00:00+00:00</td>\n",
       "      <td>167.96</td>\n",
       "      <td>170.160</td>\n",
       "      <td>167.07</td>\n",
       "      <td>170.160</td>\n",
       "      <td>48434424</td>\n",
       "      <td>39.876026</td>\n",
       "      <td>40.398336</td>\n",
       "      <td>39.664727</td>\n",
       "      <td>40.398336</td>\n",
       "      <td>193737696</td>\n",
       "      <td>0.0</td>\n",
       "      <td>1.0</td>\n",
       "    </tr>\n",
       "    <tr>\n",
       "      <th>2</th>\n",
       "      <td>AAPL</td>\n",
       "      <td>2018-01-30 00:00:00+00:00</td>\n",
       "      <td>166.97</td>\n",
       "      <td>167.370</td>\n",
       "      <td>164.70</td>\n",
       "      <td>165.530</td>\n",
       "      <td>45137026</td>\n",
       "      <td>39.640986</td>\n",
       "      <td>39.735952</td>\n",
       "      <td>39.102057</td>\n",
       "      <td>39.299110</td>\n",
       "      <td>180548104</td>\n",
       "      <td>0.0</td>\n",
       "      <td>1.0</td>\n",
       "    </tr>\n",
       "    <tr>\n",
       "      <th>3</th>\n",
       "      <td>AAPL</td>\n",
       "      <td>2018-01-31 00:00:00+00:00</td>\n",
       "      <td>167.43</td>\n",
       "      <td>168.440</td>\n",
       "      <td>166.50</td>\n",
       "      <td>166.870</td>\n",
       "      <td>30984099</td>\n",
       "      <td>39.750196</td>\n",
       "      <td>39.989984</td>\n",
       "      <td>39.529402</td>\n",
       "      <td>39.617245</td>\n",
       "      <td>123936396</td>\n",
       "      <td>0.0</td>\n",
       "      <td>1.0</td>\n",
       "    </tr>\n",
       "    <tr>\n",
       "      <th>4</th>\n",
       "      <td>AAPL</td>\n",
       "      <td>2018-02-01 00:00:00+00:00</td>\n",
       "      <td>167.78</td>\n",
       "      <td>168.620</td>\n",
       "      <td>166.76</td>\n",
       "      <td>167.170</td>\n",
       "      <td>38099665</td>\n",
       "      <td>39.833291</td>\n",
       "      <td>40.032719</td>\n",
       "      <td>39.591129</td>\n",
       "      <td>39.688469</td>\n",
       "      <td>152398660</td>\n",
       "      <td>0.0</td>\n",
       "      <td>1.0</td>\n",
       "    </tr>\n",
       "    <tr>\n",
       "      <th>...</th>\n",
       "      <td>...</td>\n",
       "      <td>...</td>\n",
       "      <td>...</td>\n",
       "      <td>...</td>\n",
       "      <td>...</td>\n",
       "      <td>...</td>\n",
       "      <td>...</td>\n",
       "      <td>...</td>\n",
       "      <td>...</td>\n",
       "      <td>...</td>\n",
       "      <td>...</td>\n",
       "      <td>...</td>\n",
       "      <td>...</td>\n",
       "      <td>...</td>\n",
       "    </tr>\n",
       "    <tr>\n",
       "      <th>1252</th>\n",
       "      <td>AAPL</td>\n",
       "      <td>2023-01-18 00:00:00+00:00</td>\n",
       "      <td>135.21</td>\n",
       "      <td>138.610</td>\n",
       "      <td>135.03</td>\n",
       "      <td>136.815</td>\n",
       "      <td>69672800</td>\n",
       "      <td>135.210000</td>\n",
       "      <td>138.610000</td>\n",
       "      <td>135.030000</td>\n",
       "      <td>136.815000</td>\n",
       "      <td>69672800</td>\n",
       "      <td>0.0</td>\n",
       "      <td>1.0</td>\n",
       "    </tr>\n",
       "    <tr>\n",
       "      <th>1253</th>\n",
       "      <td>AAPL</td>\n",
       "      <td>2023-01-19 00:00:00+00:00</td>\n",
       "      <td>135.27</td>\n",
       "      <td>136.250</td>\n",
       "      <td>133.77</td>\n",
       "      <td>134.080</td>\n",
       "      <td>58280413</td>\n",
       "      <td>135.270000</td>\n",
       "      <td>136.250000</td>\n",
       "      <td>133.770000</td>\n",
       "      <td>134.080000</td>\n",
       "      <td>58280413</td>\n",
       "      <td>0.0</td>\n",
       "      <td>1.0</td>\n",
       "    </tr>\n",
       "    <tr>\n",
       "      <th>1254</th>\n",
       "      <td>AAPL</td>\n",
       "      <td>2023-01-20 00:00:00+00:00</td>\n",
       "      <td>137.87</td>\n",
       "      <td>138.020</td>\n",
       "      <td>134.22</td>\n",
       "      <td>135.280</td>\n",
       "      <td>80223626</td>\n",
       "      <td>137.870000</td>\n",
       "      <td>138.020000</td>\n",
       "      <td>134.220000</td>\n",
       "      <td>135.280000</td>\n",
       "      <td>80223626</td>\n",
       "      <td>0.0</td>\n",
       "      <td>1.0</td>\n",
       "    </tr>\n",
       "    <tr>\n",
       "      <th>1255</th>\n",
       "      <td>AAPL</td>\n",
       "      <td>2023-01-23 00:00:00+00:00</td>\n",
       "      <td>141.11</td>\n",
       "      <td>143.315</td>\n",
       "      <td>137.90</td>\n",
       "      <td>138.120</td>\n",
       "      <td>81760313</td>\n",
       "      <td>141.110000</td>\n",
       "      <td>143.315000</td>\n",
       "      <td>137.900000</td>\n",
       "      <td>138.120000</td>\n",
       "      <td>81760313</td>\n",
       "      <td>0.0</td>\n",
       "      <td>1.0</td>\n",
       "    </tr>\n",
       "    <tr>\n",
       "      <th>1256</th>\n",
       "      <td>AAPL</td>\n",
       "      <td>2023-01-24 00:00:00+00:00</td>\n",
       "      <td>142.53</td>\n",
       "      <td>143.160</td>\n",
       "      <td>140.30</td>\n",
       "      <td>140.305</td>\n",
       "      <td>66435142</td>\n",
       "      <td>142.530000</td>\n",
       "      <td>143.160000</td>\n",
       "      <td>140.300000</td>\n",
       "      <td>140.305000</td>\n",
       "      <td>66435142</td>\n",
       "      <td>0.0</td>\n",
       "      <td>1.0</td>\n",
       "    </tr>\n",
       "  </tbody>\n",
       "</table>\n",
       "<p>1257 rows × 14 columns</p>\n",
       "</div>"
      ],
      "text/plain": [
       "     symbol                       date   close     high     low     open  \\\n",
       "0      AAPL  2018-01-26 00:00:00+00:00  171.51  172.000  170.06  172.000   \n",
       "1      AAPL  2018-01-29 00:00:00+00:00  167.96  170.160  167.07  170.160   \n",
       "2      AAPL  2018-01-30 00:00:00+00:00  166.97  167.370  164.70  165.530   \n",
       "3      AAPL  2018-01-31 00:00:00+00:00  167.43  168.440  166.50  166.870   \n",
       "4      AAPL  2018-02-01 00:00:00+00:00  167.78  168.620  166.76  167.170   \n",
       "...     ...                        ...     ...      ...     ...      ...   \n",
       "1252   AAPL  2023-01-18 00:00:00+00:00  135.21  138.610  135.03  136.815   \n",
       "1253   AAPL  2023-01-19 00:00:00+00:00  135.27  136.250  133.77  134.080   \n",
       "1254   AAPL  2023-01-20 00:00:00+00:00  137.87  138.020  134.22  135.280   \n",
       "1255   AAPL  2023-01-23 00:00:00+00:00  141.11  143.315  137.90  138.120   \n",
       "1256   AAPL  2023-01-24 00:00:00+00:00  142.53  143.160  140.30  140.305   \n",
       "\n",
       "        volume    adjClose     adjHigh      adjLow     adjOpen  adjVolume  \\\n",
       "0     37121805   40.718845   40.835178   40.374595   40.835178  148487220   \n",
       "1     48434424   39.876026   40.398336   39.664727   40.398336  193737696   \n",
       "2     45137026   39.640986   39.735952   39.102057   39.299110  180548104   \n",
       "3     30984099   39.750196   39.989984   39.529402   39.617245  123936396   \n",
       "4     38099665   39.833291   40.032719   39.591129   39.688469  152398660   \n",
       "...        ...         ...         ...         ...         ...        ...   \n",
       "1252  69672800  135.210000  138.610000  135.030000  136.815000   69672800   \n",
       "1253  58280413  135.270000  136.250000  133.770000  134.080000   58280413   \n",
       "1254  80223626  137.870000  138.020000  134.220000  135.280000   80223626   \n",
       "1255  81760313  141.110000  143.315000  137.900000  138.120000   81760313   \n",
       "1256  66435142  142.530000  143.160000  140.300000  140.305000   66435142   \n",
       "\n",
       "      divCash  splitFactor  \n",
       "0         0.0          1.0  \n",
       "1         0.0          1.0  \n",
       "2         0.0          1.0  \n",
       "3         0.0          1.0  \n",
       "4         0.0          1.0  \n",
       "...       ...          ...  \n",
       "1252      0.0          1.0  \n",
       "1253      0.0          1.0  \n",
       "1254      0.0          1.0  \n",
       "1255      0.0          1.0  \n",
       "1256      0.0          1.0  \n",
       "\n",
       "[1257 rows x 14 columns]"
      ]
     },
     "execution_count": 7,
     "metadata": {},
     "output_type": "execute_result"
    }
   ],
   "source": [
    "df"
   ]
  },
  {
   "cell_type": "code",
   "execution_count": 8,
   "id": "c6476130",
   "metadata": {},
   "outputs": [],
   "source": [
    "df2 = df.reset_index()['close']"
   ]
  },
  {
   "cell_type": "code",
   "execution_count": 9,
   "id": "5d48e393",
   "metadata": {},
   "outputs": [
    {
     "data": {
      "text/plain": [
       "0       171.51\n",
       "1       167.96\n",
       "2       166.97\n",
       "3       167.43\n",
       "4       167.78\n",
       "         ...  \n",
       "1252    135.21\n",
       "1253    135.27\n",
       "1254    137.87\n",
       "1255    141.11\n",
       "1256    142.53\n",
       "Name: close, Length: 1257, dtype: float64"
      ]
     },
     "execution_count": 9,
     "metadata": {},
     "output_type": "execute_result"
    }
   ],
   "source": [
    "df2"
   ]
  },
  {
   "cell_type": "code",
   "execution_count": 10,
   "id": "4d9173c7",
   "metadata": {},
   "outputs": [
    {
     "data": {
      "text/plain": [
       "[<matplotlib.lines.Line2D at 0x1a31887b3a0>]"
      ]
     },
     "execution_count": 10,
     "metadata": {},
     "output_type": "execute_result"
    },
    {
     "data": {
      "image/png": "[encoded data removed]",
      "text/plain": [
       "<Figure size 432x288 with 1 Axes>"
      ]
     },
     "metadata": {
      "needs_background": "light"
     },
     "output_type": "display_data"
    }
   ],
   "source": [
    "import matplotlib.pyplot as plt\n",
    "plt.ylabel('price')\n",
    "plt.title('apple stock price')\n",
    "plt.plot(df2)"
   ]
  },
  {
   "cell_type": "code",
   "execution_count": 11,
   "id": "8d29e8b0",
   "metadata": {},
   "outputs": [],
   "source": [
    "## LSTM are sensitive to the scale of the data. so we apply MinMax scaler"
   ]
  },
  {
   "cell_type": "code",
   "execution_count": 12,
   "id": "4b3b8b78",
   "metadata": {},
   "outputs": [],
   "source": [
    "import numpy as np"
   ]
  },
  {
   "cell_type": "code",
   "execution_count": 13,
   "id": "56fae093",
   "metadata": {},
   "outputs": [],
   "source": [
    "from sklearn.preprocessing import MinMaxScaler\n",
    "scaler = MinMaxScaler(feature_range=(0,1))\n",
    "df2 = scaler.fit_transform(np.array(df2).reshape(-1,1))"
   ]
  },
  {
   "cell_type": "code",
   "execution_count": 14,
   "id": "54882130",
   "metadata": {},
   "outputs": [
    {
     "data": {
      "text/plain": [
       "(1257, 1)"
      ]
     },
     "execution_count": 14,
     "metadata": {},
     "output_type": "execute_result"
    }
   ],
   "source": [
    "df2.shape"
   ]
  },
  {
   "cell_type": "code",
   "execution_count": 15,
   "id": "5f8fb99c",
   "metadata": {},
   "outputs": [],
   "source": [
    "## train test split"
   ]
  },
  {
   "cell_type": "code",
   "execution_count": 16,
   "id": "b33816bf",
   "metadata": {},
   "outputs": [],
   "source": [
    "training_size=int(len(df2)*0.65)\n",
    "test_size=len(df2)-training_size\n",
    "train_data,test_data=df2[0:training_size,:],df2[training_size:len(df2),:1]"
   ]
  },
  {
   "cell_type": "code",
   "execution_count": 17,
   "id": "fafeb7b4",
   "metadata": {},
   "outputs": [
    {
     "data": {
      "text/plain": [
       "(817, 440)"
      ]
     },
     "execution_count": 17,
     "metadata": {},
     "output_type": "execute_result"
    }
   ],
   "source": [
    "training_size,test_size"
   ]
  },
  {
   "cell_type": "code",
   "execution_count": 21,
   "id": "c1847478",
   "metadata": {},
   "outputs": [],
   "source": [
    "## convert an array of values into a dataset matrix\n",
    "import numpy as np\n",
    "def create_dataset(dataset, time_step=1):\n",
    "    dataX, dataY = [], []\n",
    "    for i in range(len(dataset)-time_step-1):\n",
    "        a = dataset[i:(i+time_step), 0]\n",
    "        dataX.append(a)\n",
    "        dataY.append(dataset[i + time_step, 0])\n",
    "    return np.array(dataX), np.array(dataY)"
   ]
  },
  {
   "cell_type": "code",
   "execution_count": 22,
   "id": "46c95ee4",
   "metadata": {},
   "outputs": [],
   "source": [
    "time_step = 100\n",
    "X_train, y_train = create_dataset(train_data, time_step)\n",
    "X_test, y_test = create_dataset(test_data, time_step)"
   ]
  },
  {
   "cell_type": "code",
   "execution_count": 23,
   "id": "a2567400",
   "metadata": {},
   "outputs": [
    {
     "name": "stdout",
     "output_type": "stream",
     "text": [
      "[[0.16197871 0.15308704 0.15060739 ... 0.2053851  0.20513463 0.1974953 ]\n",
      " [0.15308704 0.15060739 0.15175955 ... 0.20513463 0.1974953  0.19952411]\n",
      " [0.15060739 0.15175955 0.15263619 ... 0.1974953  0.19952411 0.19691922]\n",
      " ...\n",
      " [0.02086412 0.02301816 0.02442079 ... 0.0684283  0.0701315  0.06579837]\n",
      " [0.02301816 0.02442079 0.03058234 ... 0.0701315  0.06579837 0.0667752 ]\n",
      " [0.02442079 0.03058234 0.03977458 ... 0.06579837 0.0667752  0.06286788]]\n"
     ]
    }
   ],
   "source": [
    "print(X_train)"
   ]
  },
  {
   "cell_type": "code",
   "execution_count": 25,
   "id": "ee5e09fa",
   "metadata": {},
   "outputs": [
    {
     "name": "stdout",
     "output_type": "stream",
     "text": [
      "(339, 100)\n",
      "(339,)\n"
     ]
    },
    {
     "data": {
      "text/plain": [
       "(None, None)"
      ]
     },
     "execution_count": 25,
     "metadata": {},
     "output_type": "execute_result"
    }
   ],
   "source": [
    "print(X_test.shape), print(y_test.shape)"
   ]
  },
  {
   "cell_type": "code",
   "execution_count": 26,
   "id": "82b77727",
   "metadata": {},
   "outputs": [],
   "source": [
    "## reshape input to be [samples, time steps, features] which is required for LSTM\n",
    "X_train = X_train.reshape(X_train.shape[0], X_train.shape[1], 1)\n",
    "X_test = X_test.reshape(X_test.shape[0],X_test.shape[1], 1)"
   ]
  },
  {
   "cell_type": "code",
   "execution_count": 27,
   "id": "8fd1cdb1",
   "metadata": {},
   "outputs": [],
   "source": [
    "## create the LSTM model\n",
    "from tensorflow.keras.models import Sequential\n",
    "from tensorflow.keras.layers import Dense\n",
    "from tensorflow.keras.layers import LSTM"
   ]
  },
  {
   "cell_type": "code",
   "execution_count": 28,
   "id": "a2505fbd",
   "metadata": {},
   "outputs": [],
   "source": [
    "model=Sequential()\n",
    "model.add(LSTM(50,return_sequences=True,input_shape=(100,1)))\n",
    "model.add(LSTM(50,return_sequences=True))\n",
    "model.add(LSTM(50))\n",
    "model.add(Dense(1))\n",
    "model.compile(loss='mean_squared_error',optimizer='adam')"
   ]
  },
  {
   "cell_type": "code",
   "execution_count": 29,
   "id": "fb173131",
   "metadata": {},
   "outputs": [
    {
     "name": "stdout",
     "output_type": "stream",
     "text": [
      "Model: \"sequential\"\n",
      "_________________________________________________________________\n",
      " Layer (type)                Output Shape              Param #   \n",
      "=================================================================\n",
      " lstm (LSTM)                 (None, 100, 50)           10400     \n",
      "                                                                 \n",
      " lstm_1 (LSTM)               (None, 100, 50)           20200     \n",
      "                                                                 \n",
      " lstm_2 (LSTM)               (None, 50)                20200     \n",
      "                                                                 \n",
      " dense (Dense)               (None, 1)                 51        \n",
      "                                                                 \n",
      "=================================================================\n",
      "Total params: 50,851\n",
      "Trainable params: 50,851\n",
      "Non-trainable params: 0\n",
      "_________________________________________________________________\n"
     ]
    }
   ],
   "source": [
    "model.summary()"
   ]
  },
  {
   "cell_type": "code",
   "execution_count": 30,
   "id": "bfa19319",
   "metadata": {},
   "outputs": [
    {
     "name": "stdout",
     "output_type": "stream",
     "text": [
      "Epoch 1/100\n",
      "12/12 [==============================] - 7s 202ms/step - loss: 0.0475 - val_loss: 0.0026\n",
      "Epoch 2/100\n",
      "12/12 [==============================] - 1s 120ms/step - loss: 0.0137 - val_loss: 0.0047\n",
      "Epoch 3/100\n",
      "12/12 [==============================] - 1s 116ms/step - loss: 0.0105 - val_loss: 4.1251e-04\n",
      "Epoch 4/100\n",
      "12/12 [==============================] - 1s 117ms/step - loss: 0.0091 - val_loss: 9.8874e-04\n",
      "Epoch 5/100\n",
      "12/12 [==============================] - 1s 116ms/step - loss: 0.0077 - val_loss: 3.7156e-04\n",
      "Epoch 6/100\n",
      "12/12 [==============================] - 1s 123ms/step - loss: 0.0072 - val_loss: 7.5882e-04\n",
      "Epoch 7/100\n",
      "12/12 [==============================] - 1s 120ms/step - loss: 0.0063 - val_loss: 5.5645e-04\n",
      "Epoch 8/100\n",
      "12/12 [==============================] - 1s 121ms/step - loss: 0.0060 - val_loss: 0.0016\n",
      "Epoch 9/100\n",
      "12/12 [==============================] - 1s 123ms/step - loss: 0.0060 - val_loss: 9.8887e-04\n",
      "Epoch 10/100\n",
      "12/12 [==============================] - 2s 128ms/step - loss: 0.0055 - val_loss: 8.2948e-04\n",
      "Epoch 11/100\n",
      "12/12 [==============================] - 1s 123ms/step - loss: 0.0051 - val_loss: 5.8095e-04\n",
      "Epoch 12/100\n",
      "12/12 [==============================] - 1s 124ms/step - loss: 0.0063 - val_loss: 3.2595e-04\n",
      "Epoch 13/100\n",
      "12/12 [==============================] - 1s 124ms/step - loss: 0.0047 - val_loss: 7.8273e-04\n",
      "Epoch 14/100\n",
      "12/12 [==============================] - 2s 130ms/step - loss: 0.0036 - val_loss: 3.9598e-04\n",
      "Epoch 15/100\n",
      "12/12 [==============================] - 2s 126ms/step - loss: 0.0036 - val_loss: 3.0280e-04\n",
      "Epoch 16/100\n",
      "12/12 [==============================] - 2s 133ms/step - loss: 0.0031 - val_loss: 3.2868e-04\n",
      "Epoch 17/100\n",
      "12/12 [==============================] - 2s 137ms/step - loss: 0.0027 - val_loss: 2.9708e-04\n",
      "Epoch 18/100\n",
      "12/12 [==============================] - 2s 135ms/step - loss: 0.0028 - val_loss: 2.5902e-04\n",
      "Epoch 19/100\n",
      "12/12 [==============================] - 2s 135ms/step - loss: 0.0059 - val_loss: 9.1000e-04\n",
      "Epoch 20/100\n",
      "12/12 [==============================] - 2s 137ms/step - loss: 0.0065 - val_loss: 0.0011\n",
      "Epoch 21/100\n",
      "12/12 [==============================] - 2s 137ms/step - loss: 0.0056 - val_loss: 2.7441e-04\n",
      "Epoch 22/100\n",
      "12/12 [==============================] - 2s 132ms/step - loss: 0.0046 - val_loss: 4.2871e-04\n",
      "Epoch 23/100\n",
      "12/12 [==============================] - 2s 135ms/step - loss: 0.0038 - val_loss: 2.7275e-04\n",
      "Epoch 24/100\n",
      "12/12 [==============================] - 2s 140ms/step - loss: 0.0036 - val_loss: 3.0732e-04\n",
      "Epoch 25/100\n",
      "12/12 [==============================] - 2s 148ms/step - loss: 0.0039 - val_loss: 3.5019e-04\n",
      "Epoch 26/100\n",
      "12/12 [==============================] - 2s 140ms/step - loss: 0.0037 - val_loss: 4.3230e-04\n",
      "Epoch 27/100\n",
      "12/12 [==============================] - 2s 140ms/step - loss: 0.0032 - val_loss: 2.7394e-04\n",
      "Epoch 28/100\n",
      "12/12 [==============================] - 2s 144ms/step - loss: 0.0032 - val_loss: 2.5420e-04\n",
      "Epoch 29/100\n",
      "12/12 [==============================] - 2s 147ms/step - loss: 0.0035 - val_loss: 3.3062e-04\n",
      "Epoch 30/100\n",
      "12/12 [==============================] - 2s 147ms/step - loss: 0.0033 - val_loss: 3.8843e-04\n",
      "Epoch 31/100\n",
      "12/12 [==============================] - 2s 151ms/step - loss: 0.0033 - val_loss: 4.6084e-04\n",
      "Epoch 32/100\n",
      "12/12 [==============================] - 2s 146ms/step - loss: 0.0030 - val_loss: 3.9201e-04\n",
      "Epoch 33/100\n",
      "12/12 [==============================] - 2s 146ms/step - loss: 0.0029 - val_loss: 6.5577e-04\n",
      "Epoch 34/100\n",
      "12/12 [==============================] - 2s 148ms/step - loss: 0.0030 - val_loss: 2.6617e-04\n",
      "Epoch 35/100\n",
      "12/12 [==============================] - 2s 152ms/step - loss: 0.0026 - val_loss: 2.4614e-04\n",
      "Epoch 36/100\n",
      "12/12 [==============================] - 2s 156ms/step - loss: 0.0025 - val_loss: 2.3643e-04\n",
      "Epoch 37/100\n",
      "12/12 [==============================] - 2s 156ms/step - loss: 0.0025 - val_loss: 2.5795e-04\n",
      "Epoch 38/100\n",
      "12/12 [==============================] - 2s 162ms/step - loss: 0.0022 - val_loss: 2.4995e-04\n",
      "Epoch 39/100\n",
      "12/12 [==============================] - 2s 178ms/step - loss: 0.0021 - val_loss: 2.6497e-04\n",
      "Epoch 40/100\n",
      "12/12 [==============================] - 2s 161ms/step - loss: 0.0020 - val_loss: 2.6071e-04\n",
      "Epoch 41/100\n",
      "12/12 [==============================] - 2s 161ms/step - loss: 0.0024 - val_loss: 2.5556e-04\n",
      "Epoch 42/100\n",
      "12/12 [==============================] - 2s 157ms/step - loss: 0.0028 - val_loss: 6.3977e-04\n",
      "Epoch 43/100\n",
      "12/12 [==============================] - 2s 159ms/step - loss: 0.0026 - val_loss: 3.0430e-04\n",
      "Epoch 44/100\n",
      "12/12 [==============================] - 2s 161ms/step - loss: 0.0046 - val_loss: 2.6304e-04\n",
      "Epoch 45/100\n",
      "12/12 [==============================] - 2s 162ms/step - loss: 0.0037 - val_loss: 2.7913e-04\n",
      "Epoch 46/100\n",
      "12/12 [==============================] - 2s 157ms/step - loss: 0.0028 - val_loss: 2.9849e-04\n",
      "Epoch 47/100\n",
      "12/12 [==============================] - 2s 162ms/step - loss: 0.0025 - val_loss: 2.3613e-04\n",
      "Epoch 48/100\n",
      "12/12 [==============================] - 2s 160ms/step - loss: 0.0025 - val_loss: 2.9662e-04\n",
      "Epoch 49/100\n",
      "12/12 [==============================] - 2s 160ms/step - loss: 0.0024 - val_loss: 2.3832e-04\n",
      "Epoch 50/100\n",
      "12/12 [==============================] - 2s 162ms/step - loss: 0.0021 - val_loss: 2.6673e-04\n",
      "Epoch 51/100\n",
      "12/12 [==============================] - 2s 161ms/step - loss: 0.0021 - val_loss: 2.3485e-04\n",
      "Epoch 52/100\n",
      "12/12 [==============================] - 2s 160ms/step - loss: 0.0020 - val_loss: 2.5906e-04\n",
      "Epoch 53/100\n",
      "12/12 [==============================] - 2s 161ms/step - loss: 0.0019 - val_loss: 2.4072e-04\n",
      "Epoch 54/100\n",
      "12/12 [==============================] - 2s 162ms/step - loss: 0.0019 - val_loss: 2.4616e-04\n",
      "Epoch 55/100\n",
      "12/12 [==============================] - 2s 169ms/step - loss: 0.0022 - val_loss: 4.4063e-04\n",
      "Epoch 56/100\n",
      "12/12 [==============================] - 2s 177ms/step - loss: 0.0022 - val_loss: 2.5203e-04\n",
      "Epoch 57/100\n",
      "12/12 [==============================] - 2s 164ms/step - loss: 0.0048 - val_loss: 0.0012\n",
      "Epoch 58/100\n",
      "12/12 [==============================] - 2s 167ms/step - loss: 0.0037 - val_loss: 4.2807e-04\n",
      "Epoch 59/100\n",
      "12/12 [==============================] - 2s 161ms/step - loss: 0.0033 - val_loss: 2.4089e-04\n",
      "Epoch 60/100\n",
      "12/12 [==============================] - 2s 160ms/step - loss: 0.0023 - val_loss: 2.2655e-04\n",
      "Epoch 61/100\n",
      "12/12 [==============================] - 2s 163ms/step - loss: 0.0020 - val_loss: 2.4298e-04\n",
      "Epoch 62/100\n",
      "12/12 [==============================] - 2s 163ms/step - loss: 0.0020 - val_loss: 3.5138e-04\n",
      "Epoch 63/100\n",
      "12/12 [==============================] - 2s 162ms/step - loss: 0.0021 - val_loss: 2.5423e-04\n",
      "Epoch 64/100\n",
      "12/12 [==============================] - 2s 167ms/step - loss: 0.0019 - val_loss: 4.0646e-04\n",
      "Epoch 65/100\n",
      "12/12 [==============================] - 2s 170ms/step - loss: 0.0021 - val_loss: 2.4276e-04\n",
      "Epoch 66/100\n",
      "12/12 [==============================] - 2s 167ms/step - loss: 0.0015 - val_loss: 2.4825e-04\n",
      "Epoch 67/100\n",
      "12/12 [==============================] - 2s 166ms/step - loss: 0.0017 - val_loss: 2.6018e-04\n",
      "Epoch 68/100\n",
      "12/12 [==============================] - 2s 164ms/step - loss: 0.0016 - val_loss: 2.3578e-04\n",
      "Epoch 69/100\n",
      "12/12 [==============================] - 2s 167ms/step - loss: 0.0018 - val_loss: 2.5808e-04\n",
      "Epoch 70/100\n",
      "12/12 [==============================] - 2s 165ms/step - loss: 0.0015 - val_loss: 2.6219e-04\n",
      "Epoch 71/100\n",
      "12/12 [==============================] - 2s 163ms/step - loss: 0.0017 - val_loss: 2.5803e-04\n",
      "Epoch 72/100\n",
      "12/12 [==============================] - 2s 166ms/step - loss: 0.0015 - val_loss: 2.4218e-04\n",
      "Epoch 73/100\n",
      "12/12 [==============================] - 2s 166ms/step - loss: 0.0017 - val_loss: 2.3667e-04\n",
      "Epoch 74/100\n",
      "12/12 [==============================] - 2s 167ms/step - loss: 0.0022 - val_loss: 3.6379e-04\n",
      "Epoch 75/100\n",
      "12/12 [==============================] - 2s 167ms/step - loss: 0.0020 - val_loss: 3.2306e-04\n",
      "Epoch 76/100\n",
      "12/12 [==============================] - 2s 176ms/step - loss: 0.0016 - val_loss: 2.6100e-04\n",
      "Epoch 77/100\n",
      "12/12 [==============================] - 2s 169ms/step - loss: 0.0016 - val_loss: 2.3946e-04\n",
      "Epoch 78/100\n"
     ]
    },
    {
     "name": "stdout",
     "output_type": "stream",
     "text": [
      "12/12 [==============================] - 2s 169ms/step - loss: 0.0017 - val_loss: 2.5541e-04\n",
      "Epoch 79/100\n",
      "12/12 [==============================] - 2s 168ms/step - loss: 0.0017 - val_loss: 2.8929e-04\n",
      "Epoch 80/100\n",
      "12/12 [==============================] - 2s 170ms/step - loss: 0.0016 - val_loss: 2.3647e-04\n",
      "Epoch 81/100\n",
      "12/12 [==============================] - 2s 170ms/step - loss: 0.0019 - val_loss: 3.0220e-04\n",
      "Epoch 82/100\n",
      "12/12 [==============================] - 2s 170ms/step - loss: 0.0021 - val_loss: 2.4786e-04\n",
      "Epoch 83/100\n",
      "12/12 [==============================] - 2s 171ms/step - loss: 0.0058 - val_loss: 8.4266e-04\n",
      "Epoch 84/100\n",
      "12/12 [==============================] - 2s 185ms/step - loss: 0.0043 - val_loss: 3.9979e-04\n",
      "Epoch 85/100\n",
      "12/12 [==============================] - 2s 174ms/step - loss: 0.0030 - val_loss: 2.3233e-04\n",
      "Epoch 86/100\n",
      "12/12 [==============================] - 2s 171ms/step - loss: 0.0027 - val_loss: 3.7075e-04\n",
      "Epoch 87/100\n",
      "12/12 [==============================] - 2s 182ms/step - loss: 0.0040 - val_loss: 3.2542e-04\n",
      "Epoch 88/100\n",
      "12/12 [==============================] - 2s 182ms/step - loss: 0.0029 - val_loss: 0.0011\n",
      "Epoch 89/100\n",
      "12/12 [==============================] - 2s 178ms/step - loss: 0.0023 - val_loss: 2.2713e-04\n",
      "Epoch 90/100\n",
      "12/12 [==============================] - 2s 177ms/step - loss: 0.0018 - val_loss: 2.0868e-04\n",
      "Epoch 91/100\n",
      "12/12 [==============================] - 2s 175ms/step - loss: 0.0021 - val_loss: 2.1017e-04\n",
      "Epoch 92/100\n",
      "12/12 [==============================] - 2s 175ms/step - loss: 0.0017 - val_loss: 2.0952e-04\n",
      "Epoch 93/100\n",
      "12/12 [==============================] - 2s 179ms/step - loss: 0.0015 - val_loss: 2.1245e-04\n",
      "Epoch 94/100\n",
      "12/12 [==============================] - 2s 179ms/step - loss: 0.0016 - val_loss: 2.1064e-04\n",
      "Epoch 95/100\n",
      "12/12 [==============================] - 2s 190ms/step - loss: 0.0018 - val_loss: 3.0838e-04\n",
      "Epoch 96/100\n",
      "12/12 [==============================] - 2s 178ms/step - loss: 0.0022 - val_loss: 2.6581e-04\n",
      "Epoch 97/100\n",
      "12/12 [==============================] - 2s 180ms/step - loss: 0.0021 - val_loss: 3.2181e-04\n",
      "Epoch 98/100\n",
      "12/12 [==============================] - 2s 183ms/step - loss: 0.0046 - val_loss: 9.3130e-04\n",
      "Epoch 99/100\n",
      "12/12 [==============================] - 2s 179ms/step - loss: 0.0034 - val_loss: 5.2295e-04\n",
      "Epoch 100/100\n",
      "12/12 [==============================] - 2s 180ms/step - loss: 0.0023 - val_loss: 2.4496e-04\n"
     ]
    },
    {
     "data": {
      "text/plain": [
       "<keras.callbacks.History at 0x1a325efea30>"
      ]
     },
     "execution_count": 30,
     "metadata": {},
     "output_type": "execute_result"
    }
   ],
   "source": [
    "model.fit(X_train,y_train,validation_data=(X_test,y_test),epochs=100,batch_size=64,verbose=1)"
   ]
  },
  {
   "cell_type": "code",
   "execution_count": 31,
   "id": "2b46eb29",
   "metadata": {},
   "outputs": [],
   "source": [
    "import tensorflow as tf"
   ]
  },
  {
   "cell_type": "code",
   "execution_count": 32,
   "id": "9e9a7901",
   "metadata": {},
   "outputs": [
    {
     "data": {
      "text/plain": [
       "'2.11.0'"
      ]
     },
     "execution_count": 32,
     "metadata": {},
     "output_type": "execute_result"
    }
   ],
   "source": [
    "tf.__version__"
   ]
  },
  {
   "cell_type": "code",
   "execution_count": 33,
   "id": "76e83cd0",
   "metadata": {},
   "outputs": [
    {
     "name": "stdout",
     "output_type": "stream",
     "text": [
      "23/23 [==============================] - 1s 19ms/step\n",
      "11/11 [==============================] - 0s 19ms/step\n"
     ]
    }
   ],
   "source": [
    "## lets do the prediction and check performance metrics\n",
    "train_predict = model.predict(X_train)\n",
    "test_predict = model.predict(X_test)"
   ]
  },
  {
   "cell_type": "code",
   "execution_count": 35,
   "id": "be1db1b2",
   "metadata": {},
   "outputs": [],
   "source": [
    "## Transform back to original form\n",
    "train_predict = scaler.inverse_transform(train_predict)\n",
    "test_predict = scaler.inverse_transform(test_predict)"
   ]
  },
  {
   "cell_type": "code",
   "execution_count": 36,
   "id": "ad8b2d01",
   "metadata": {},
   "outputs": [
    {
     "data": {
      "text/plain": [
       "225.08569024076021"
      ]
     },
     "execution_count": 36,
     "metadata": {},
     "output_type": "execute_result"
    }
   ],
   "source": [
    "## calculate RMSE performance metrics\n",
    "import math\n",
    "from sklearn.metrics import mean_squared_error\n",
    "math.sqrt(mean_squared_error(y_train,train_predict))"
   ]
  },
  {
   "cell_type": "code",
   "execution_count": 37,
   "id": "b7a67a64",
   "metadata": {},
   "outputs": [
    {
     "data": {
      "text/plain": [
       "157.36023703099988"
      ]
     },
     "execution_count": 37,
     "metadata": {},
     "output_type": "execute_result"
    }
   ],
   "source": [
    "## test data RMSE\n",
    "math.sqrt(mean_squared_error(y_test,test_predict))"
   ]
  },
  {
   "cell_type": "code",
   "execution_count": 43,
   "id": "df495f3e",
   "metadata": {},
   "outputs": [
    {
     "data": {
      "image/png": "[encoded data removed]",
      "text/plain": [
       "<Figure size 432x288 with 1 Axes>"
      ]
     },
     "metadata": {
      "needs_background": "light"
     },
     "output_type": "display_data"
    }
   ],
   "source": [
    "### Plotting \n",
    "# shift train predictions for plotting\n",
    "import numpy\n",
    "look_back=100\n",
    "trainPredictPlot = numpy.empty_like(df2)\n",
    "trainPredictPlot[:, :] = np.nan\n",
    "trainPredictPlot[look_back:len(train_predict)+look_back, :] = train_predict\n",
    "# shift test predictions for plotting\n",
    "testPredictPlot = numpy.empty_like(df2)\n",
    "testPredictPlot[:, :] = numpy.nan\n",
    "testPredictPlot[len(train_predict)+(look_back*2)+1:len(df2)-1, :] = test_predict\n",
    "# plot baseline and predictions\n",
    "plt.plot(scaler.inverse_transform(df2))\n",
    "plt.plot(trainPredictPlot)\n",
    "plt.plot(testPredictPlot)\n",
    "plt.show()"
   ]
  },
  {
   "cell_type": "code",
   "execution_count": 44,
   "id": "2349a631",
   "metadata": {},
   "outputs": [
    {
     "data": {
      "text/plain": [
       "440"
      ]
     },
     "execution_count": 44,
     "metadata": {},
     "output_type": "execute_result"
    }
   ],
   "source": [
    "len(test_data)"
   ]
  },
  {
   "cell_type": "code",
   "execution_count": 45,
   "id": "c0ce43fd",
   "metadata": {},
   "outputs": [
    {
     "data": {
      "text/plain": [
       "(1, 100)"
      ]
     },
     "execution_count": 45,
     "metadata": {},
     "output_type": "execute_result"
    }
   ],
   "source": [
    "x_input=test_data[340:].reshape(1,-1)\n",
    "x_input.shape"
   ]
  },
  {
   "cell_type": "code",
   "execution_count": 46,
   "id": "6a1c6087",
   "metadata": {},
   "outputs": [],
   "source": [
    "x_input=test_data[340:].reshape(1,-1)"
   ]
  },
  {
   "cell_type": "code",
   "execution_count": 47,
   "id": "eaf31b89",
   "metadata": {},
   "outputs": [
    {
     "data": {
      "text/plain": [
       "(1, 100)"
      ]
     },
     "execution_count": 47,
     "metadata": {},
     "output_type": "execute_result"
    }
   ],
   "source": [
    "x_input.shape"
   ]
  },
  {
   "cell_type": "code",
   "execution_count": 48,
   "id": "dfd501ee",
   "metadata": {},
   "outputs": [],
   "source": [
    "temp_input = list(x_input)\n",
    "temp_input = temp_input[0].tolist()"
   ]
  },
  {
   "cell_type": "code",
   "execution_count": 49,
   "id": "52610c35",
   "metadata": {},
   "outputs": [
    {
     "data": {
      "text/plain": [
       "[0.12618659987476516,\n",
       " 0.12804007514088916,\n",
       " 0.1226549780839073,\n",
       " 0.1194489668127739,\n",
       " 0.12303068252974325,\n",
       " 0.1192736380713838,\n",
       " 0.12656230432060112,\n",
       " 0.14174076393237317,\n",
       " 0.1177207263619286,\n",
       " 0.12140262993112083,\n",
       " 0.11403882279273636,\n",
       " 0.10985597996242946,\n",
       " 0.11932373199749524,\n",
       " 0.1253850970569818,\n",
       " 0.1174201628052598,\n",
       " 0.11496556042579836,\n",
       " 0.10917971195992482,\n",
       " 0.11003130870381966,\n",
       " 0.11251095804633682,\n",
       " 0.10770194113963677,\n",
       " 0.08926737633061982,\n",
       " 0.07854727614276763,\n",
       " 0.08919223544145266,\n",
       " 0.09833437695679392,\n",
       " 0.09908578584846583,\n",
       " 0.09665623043206006,\n",
       " 0.08328115216030052,\n",
       " 0.08410770194113959,\n",
       " 0.08050093926111451,\n",
       " 0.07889793362554787,\n",
       " 0.09054477144646211,\n",
       " 0.07899812147777074,\n",
       " 0.08909204758922978,\n",
       " 0.0924483406386975,\n",
       " 0.09272385723231058,\n",
       " 0.09154664996869122,\n",
       " 0.1012648716343143,\n",
       " 0.10672510958046327,\n",
       " 0.11396368190356915,\n",
       " 0.10647463994990602,\n",
       " 0.09507827175954914,\n",
       " 0.1224796493425172,\n",
       " 0.11646837820914213,\n",
       " 0.10973074514715087,\n",
       " 0.0956543519098309,\n",
       " 0.08025046963055726,\n",
       " 0.07899812147777074,\n",
       " 0.08035065748278014,\n",
       " 0.08180338134001247,\n",
       " 0.07020663744520972,\n",
       " 0.10026299311208514,\n",
       " 0.10735128365685653,\n",
       " 0.103794614902943,\n",
       " 0.10820288040075132,\n",
       " 0.10507201001878513,\n",
       " 0.10990607388854096,\n",
       " 0.11133375078271751,\n",
       " 0.10311834690043825,\n",
       " 0.10855353788353161,\n",
       " 0.11078271759549146,\n",
       " 0.10336881653099561,\n",
       " 0.09362554790231681,\n",
       " 0.08598622417031926,\n",
       " 0.10316844082654975,\n",
       " 0.10386975579211016,\n",
       " 0.1026174076393237,\n",
       " 0.0996618659987476,\n",
       " 0.09034439574201625,\n",
       " 0.08541014402003755,\n",
       " 0.08969317470256727,\n",
       " 0.08846587351283652,\n",
       " 0.0943018159048215,\n",
       " 0.096756418284283,\n",
       " 0.09109580463368816,\n",
       " 0.07428929242329363,\n",
       " 0.06930494677520344,\n",
       " 0.06394489668127734,\n",
       " 0.06376956793988725,\n",
       " 0.07165936130244199,\n",
       " 0.0635942391984971,\n",
       " 0.06266750156543521,\n",
       " 0.05808390732623664,\n",
       " 0.04809016906700059,\n",
       " 0.05703193487789604,\n",
       " 0.05783343769567939,\n",
       " 0.04566061365059482,\n",
       " 0.04889167188478394,\n",
       " 0.045535378835316165,\n",
       " 0.05705698184095176,\n",
       " 0.05838447088290544,\n",
       " 0.05983719474013771,\n",
       " 0.06675015654351907,\n",
       " 0.0665497808390732,\n",
       " 0.0699311208515967,\n",
       " 0.0728866624921728,\n",
       " 0.07105823418910456,\n",
       " 0.07120851596743893,\n",
       " 0.07772072636192856,\n",
       " 0.08583594239198494,\n",
       " 0.08939261114589853]"
      ]
     },
     "execution_count": 49,
     "metadata": {},
     "output_type": "execute_result"
    }
   ],
   "source": [
    "temp_input"
   ]
  },
  {
   "cell_type": "code",
   "execution_count": 50,
   "id": "28b389e9",
   "metadata": {},
   "outputs": [
    {
     "name": "stdout",
     "output_type": "stream",
     "text": [
      "[0.08262705]\n",
      "101\n",
      "1 day input [0.12804008 0.12265498 0.11944897 0.12303068 0.11927364 0.1265623\n",
      " 0.14174076 0.11772073 0.12140263 0.11403882 0.10985598 0.11932373\n",
      " 0.1253851  0.11742016 0.11496556 0.10917971 0.11003131 0.11251096\n",
      " 0.10770194 0.08926738 0.07854728 0.08919224 0.09833438 0.09908579\n",
      " 0.09665623 0.08328115 0.0841077  0.08050094 0.07889793 0.09054477\n",
      " 0.07899812 0.08909205 0.09244834 0.09272386 0.09154665 0.10126487\n",
      " 0.10672511 0.11396368 0.10647464 0.09507827 0.12247965 0.11646838\n",
      " 0.10973075 0.09565435 0.08025047 0.07899812 0.08035066 0.08180338\n",
      " 0.07020664 0.10026299 0.10735128 0.10379461 0.10820288 0.10507201\n",
      " 0.10990607 0.11133375 0.10311835 0.10855354 0.11078272 0.10336882\n",
      " 0.09362555 0.08598622 0.10316844 0.10386976 0.10261741 0.09966187\n",
      " 0.0903444  0.08541014 0.08969317 0.08846587 0.09430182 0.09675642\n",
      " 0.0910958  0.07428929 0.06930495 0.0639449  0.06376957 0.07165936\n",
      " 0.06359424 0.0626675  0.05808391 0.04809017 0.05703193 0.05783344\n",
      " 0.04566061 0.04889167 0.04553538 0.05705698 0.05838447 0.05983719\n",
      " 0.06675016 0.06654978 0.06993112 0.07288666 0.07105823 0.07120852\n",
      " 0.07772073 0.08583594 0.08939261 0.08262705]\n",
      "1 day output [[0.08537314]]\n",
      "2 day input [0.12265498 0.11944897 0.12303068 0.11927364 0.1265623  0.14174076\n",
      " 0.11772073 0.12140263 0.11403882 0.10985598 0.11932373 0.1253851\n",
      " 0.11742016 0.11496556 0.10917971 0.11003131 0.11251096 0.10770194\n",
      " 0.08926738 0.07854728 0.08919224 0.09833438 0.09908579 0.09665623\n",
      " 0.08328115 0.0841077  0.08050094 0.07889793 0.09054477 0.07899812\n",
      " 0.08909205 0.09244834 0.09272386 0.09154665 0.10126487 0.10672511\n",
      " 0.11396368 0.10647464 0.09507827 0.12247965 0.11646838 0.10973075\n",
      " 0.09565435 0.08025047 0.07899812 0.08035066 0.08180338 0.07020664\n",
      " 0.10026299 0.10735128 0.10379461 0.10820288 0.10507201 0.10990607\n",
      " 0.11133375 0.10311835 0.10855354 0.11078272 0.10336882 0.09362555\n",
      " 0.08598622 0.10316844 0.10386976 0.10261741 0.09966187 0.0903444\n",
      " 0.08541014 0.08969317 0.08846587 0.09430182 0.09675642 0.0910958\n",
      " 0.07428929 0.06930495 0.0639449  0.06376957 0.07165936 0.06359424\n",
      " 0.0626675  0.05808391 0.04809017 0.05703193 0.05783344 0.04566061\n",
      " 0.04889167 0.04553538 0.05705698 0.05838447 0.05983719 0.06675016\n",
      " 0.06654978 0.06993112 0.07288666 0.07105823 0.07120852 0.07772073\n",
      " 0.08583594 0.08939261 0.08262705 0.08537314]\n",
      "2 day output [[0.08776949]]\n",
      "3 day input [0.11944897 0.12303068 0.11927364 0.1265623  0.14174076 0.11772073\n",
      " 0.12140263 0.11403882 0.10985598 0.11932373 0.1253851  0.11742016\n",
      " 0.11496556 0.10917971 0.11003131 0.11251096 0.10770194 0.08926738\n",
      " 0.07854728 0.08919224 0.09833438 0.09908579 0.09665623 0.08328115\n",
      " 0.0841077  0.08050094 0.07889793 0.09054477 0.07899812 0.08909205\n",
      " 0.09244834 0.09272386 0.09154665 0.10126487 0.10672511 0.11396368\n",
      " 0.10647464 0.09507827 0.12247965 0.11646838 0.10973075 0.09565435\n",
      " 0.08025047 0.07899812 0.08035066 0.08180338 0.07020664 0.10026299\n",
      " 0.10735128 0.10379461 0.10820288 0.10507201 0.10990607 0.11133375\n",
      " 0.10311835 0.10855354 0.11078272 0.10336882 0.09362555 0.08598622\n",
      " 0.10316844 0.10386976 0.10261741 0.09966187 0.0903444  0.08541014\n",
      " 0.08969317 0.08846587 0.09430182 0.09675642 0.0910958  0.07428929\n",
      " 0.06930495 0.0639449  0.06376957 0.07165936 0.06359424 0.0626675\n",
      " 0.05808391 0.04809017 0.05703193 0.05783344 0.04566061 0.04889167\n",
      " 0.04553538 0.05705698 0.05838447 0.05983719 0.06675016 0.06654978\n",
      " 0.06993112 0.07288666 0.07105823 0.07120852 0.07772073 0.08583594\n",
      " 0.08939261 0.08262705 0.08537314 0.08776949]\n",
      "3 day output [[0.0898876]]\n",
      "4 day input [0.12303068 0.11927364 0.1265623  0.14174076 0.11772073 0.12140263\n",
      " 0.11403882 0.10985598 0.11932373 0.1253851  0.11742016 0.11496556\n",
      " 0.10917971 0.11003131 0.11251096 0.10770194 0.08926738 0.07854728\n",
      " 0.08919224 0.09833438 0.09908579 0.09665623 0.08328115 0.0841077\n",
      " 0.08050094 0.07889793 0.09054477 0.07899812 0.08909205 0.09244834\n",
      " 0.09272386 0.09154665 0.10126487 0.10672511 0.11396368 0.10647464\n",
      " 0.09507827 0.12247965 0.11646838 0.10973075 0.09565435 0.08025047\n",
      " 0.07899812 0.08035066 0.08180338 0.07020664 0.10026299 0.10735128\n",
      " 0.10379461 0.10820288 0.10507201 0.10990607 0.11133375 0.10311835\n",
      " 0.10855354 0.11078272 0.10336882 0.09362555 0.08598622 0.10316844\n",
      " 0.10386976 0.10261741 0.09966187 0.0903444  0.08541014 0.08969317\n",
      " 0.08846587 0.09430182 0.09675642 0.0910958  0.07428929 0.06930495\n",
      " 0.0639449  0.06376957 0.07165936 0.06359424 0.0626675  0.05808391\n",
      " 0.04809017 0.05703193 0.05783344 0.04566061 0.04889167 0.04553538\n",
      " 0.05705698 0.05838447 0.05983719 0.06675016 0.06654978 0.06993112\n",
      " 0.07288666 0.07105823 0.07120852 0.07772073 0.08583594 0.08939261\n",
      " 0.08262705 0.08537314 0.08776949 0.0898876 ]\n",
      "4 day output [[0.09181726]]\n",
      "5 day input [0.11927364 0.1265623  0.14174076 0.11772073 0.12140263 0.11403882\n",
      " 0.10985598 0.11932373 0.1253851  0.11742016 0.11496556 0.10917971\n",
      " 0.11003131 0.11251096 0.10770194 0.08926738 0.07854728 0.08919224\n",
      " 0.09833438 0.09908579 0.09665623 0.08328115 0.0841077  0.08050094\n",
      " 0.07889793 0.09054477 0.07899812 0.08909205 0.09244834 0.09272386\n",
      " 0.09154665 0.10126487 0.10672511 0.11396368 0.10647464 0.09507827\n",
      " 0.12247965 0.11646838 0.10973075 0.09565435 0.08025047 0.07899812\n",
      " 0.08035066 0.08180338 0.07020664 0.10026299 0.10735128 0.10379461\n",
      " 0.10820288 0.10507201 0.10990607 0.11133375 0.10311835 0.10855354\n",
      " 0.11078272 0.10336882 0.09362555 0.08598622 0.10316844 0.10386976\n",
      " 0.10261741 0.09966187 0.0903444  0.08541014 0.08969317 0.08846587\n",
      " 0.09430182 0.09675642 0.0910958  0.07428929 0.06930495 0.0639449\n",
      " 0.06376957 0.07165936 0.06359424 0.0626675  0.05808391 0.04809017\n",
      " 0.05703193 0.05783344 0.04566061 0.04889167 0.04553538 0.05705698\n",
      " 0.05838447 0.05983719 0.06675016 0.06654978 0.06993112 0.07288666\n",
      " 0.07105823 0.07120852 0.07772073 0.08583594 0.08939261 0.08262705\n",
      " 0.08537314 0.08776949 0.0898876  0.09181726]\n",
      "5 day output [[0.09362513]]\n",
      "6 day input [0.1265623  0.14174076 0.11772073 0.12140263 0.11403882 0.10985598\n",
      " 0.11932373 0.1253851  0.11742016 0.11496556 0.10917971 0.11003131\n",
      " 0.11251096 0.10770194 0.08926738 0.07854728 0.08919224 0.09833438\n",
      " 0.09908579 0.09665623 0.08328115 0.0841077  0.08050094 0.07889793\n",
      " 0.09054477 0.07899812 0.08909205 0.09244834 0.09272386 0.09154665\n",
      " 0.10126487 0.10672511 0.11396368 0.10647464 0.09507827 0.12247965\n",
      " 0.11646838 0.10973075 0.09565435 0.08025047 0.07899812 0.08035066\n",
      " 0.08180338 0.07020664 0.10026299 0.10735128 0.10379461 0.10820288\n",
      " 0.10507201 0.10990607 0.11133375 0.10311835 0.10855354 0.11078272\n",
      " 0.10336882 0.09362555 0.08598622 0.10316844 0.10386976 0.10261741\n",
      " 0.09966187 0.0903444  0.08541014 0.08969317 0.08846587 0.09430182\n",
      " 0.09675642 0.0910958  0.07428929 0.06930495 0.0639449  0.06376957\n",
      " 0.07165936 0.06359424 0.0626675  0.05808391 0.04809017 0.05703193\n",
      " 0.05783344 0.04566061 0.04889167 0.04553538 0.05705698 0.05838447\n",
      " 0.05983719 0.06675016 0.06654978 0.06993112 0.07288666 0.07105823\n",
      " 0.07120852 0.07772073 0.08583594 0.08939261 0.08262705 0.08537314\n",
      " 0.08776949 0.0898876  0.09181726 0.09362513]\n",
      "6 day output [[0.09535248]]\n",
      "7 day input [0.14174076 0.11772073 0.12140263 0.11403882 0.10985598 0.11932373\n",
      " 0.1253851  0.11742016 0.11496556 0.10917971 0.11003131 0.11251096\n",
      " 0.10770194 0.08926738 0.07854728 0.08919224 0.09833438 0.09908579\n",
      " 0.09665623 0.08328115 0.0841077  0.08050094 0.07889793 0.09054477\n",
      " 0.07899812 0.08909205 0.09244834 0.09272386 0.09154665 0.10126487\n",
      " 0.10672511 0.11396368 0.10647464 0.09507827 0.12247965 0.11646838\n",
      " 0.10973075 0.09565435 0.08025047 0.07899812 0.08035066 0.08180338\n",
      " 0.07020664 0.10026299 0.10735128 0.10379461 0.10820288 0.10507201\n",
      " 0.10990607 0.11133375 0.10311835 0.10855354 0.11078272 0.10336882\n",
      " 0.09362555 0.08598622 0.10316844 0.10386976 0.10261741 0.09966187\n",
      " 0.0903444  0.08541014 0.08969317 0.08846587 0.09430182 0.09675642\n",
      " 0.0910958  0.07428929 0.06930495 0.0639449  0.06376957 0.07165936\n",
      " 0.06359424 0.0626675  0.05808391 0.04809017 0.05703193 0.05783344\n",
      " 0.04566061 0.04889167 0.04553538 0.05705698 0.05838447 0.05983719\n",
      " 0.06675016 0.06654978 0.06993112 0.07288666 0.07105823 0.07120852\n",
      " 0.07772073 0.08583594 0.08939261 0.08262705 0.08537314 0.08776949\n",
      " 0.0898876  0.09181726 0.09362513 0.09535248]\n",
      "7 day output [[0.09702312]]\n",
      "8 day input [0.11772073 0.12140263 0.11403882 0.10985598 0.11932373 0.1253851\n",
      " 0.11742016 0.11496556 0.10917971 0.11003131 0.11251096 0.10770194\n",
      " 0.08926738 0.07854728 0.08919224 0.09833438 0.09908579 0.09665623\n",
      " 0.08328115 0.0841077  0.08050094 0.07889793 0.09054477 0.07899812\n",
      " 0.08909205 0.09244834 0.09272386 0.09154665 0.10126487 0.10672511\n",
      " 0.11396368 0.10647464 0.09507827 0.12247965 0.11646838 0.10973075\n",
      " 0.09565435 0.08025047 0.07899812 0.08035066 0.08180338 0.07020664\n",
      " 0.10026299 0.10735128 0.10379461 0.10820288 0.10507201 0.10990607\n",
      " 0.11133375 0.10311835 0.10855354 0.11078272 0.10336882 0.09362555\n",
      " 0.08598622 0.10316844 0.10386976 0.10261741 0.09966187 0.0903444\n",
      " 0.08541014 0.08969317 0.08846587 0.09430182 0.09675642 0.0910958\n",
      " 0.07428929 0.06930495 0.0639449  0.06376957 0.07165936 0.06359424\n",
      " 0.0626675  0.05808391 0.04809017 0.05703193 0.05783344 0.04566061\n",
      " 0.04889167 0.04553538 0.05705698 0.05838447 0.05983719 0.06675016\n",
      " 0.06654978 0.06993112 0.07288666 0.07105823 0.07120852 0.07772073\n",
      " 0.08583594 0.08939261 0.08262705 0.08537314 0.08776949 0.0898876\n",
      " 0.09181726 0.09362513 0.09535248 0.09702312]\n"
     ]
    },
    {
     "name": "stdout",
     "output_type": "stream",
     "text": [
      "8 day output [[0.09865084]]\n",
      "9 day input [0.12140263 0.11403882 0.10985598 0.11932373 0.1253851  0.11742016\n",
      " 0.11496556 0.10917971 0.11003131 0.11251096 0.10770194 0.08926738\n",
      " 0.07854728 0.08919224 0.09833438 0.09908579 0.09665623 0.08328115\n",
      " 0.0841077  0.08050094 0.07889793 0.09054477 0.07899812 0.08909205\n",
      " 0.09244834 0.09272386 0.09154665 0.10126487 0.10672511 0.11396368\n",
      " 0.10647464 0.09507827 0.12247965 0.11646838 0.10973075 0.09565435\n",
      " 0.08025047 0.07899812 0.08035066 0.08180338 0.07020664 0.10026299\n",
      " 0.10735128 0.10379461 0.10820288 0.10507201 0.10990607 0.11133375\n",
      " 0.10311835 0.10855354 0.11078272 0.10336882 0.09362555 0.08598622\n",
      " 0.10316844 0.10386976 0.10261741 0.09966187 0.0903444  0.08541014\n",
      " 0.08969317 0.08846587 0.09430182 0.09675642 0.0910958  0.07428929\n",
      " 0.06930495 0.0639449  0.06376957 0.07165936 0.06359424 0.0626675\n",
      " 0.05808391 0.04809017 0.05703193 0.05783344 0.04566061 0.04889167\n",
      " 0.04553538 0.05705698 0.05838447 0.05983719 0.06675016 0.06654978\n",
      " 0.06993112 0.07288666 0.07105823 0.07120852 0.07772073 0.08583594\n",
      " 0.08939261 0.08262705 0.08537314 0.08776949 0.0898876  0.09181726\n",
      " 0.09362513 0.09535248 0.09702312 0.09865084]\n",
      "9 day output [[0.10024459]]\n",
      "10 day input [0.11403882 0.10985598 0.11932373 0.1253851  0.11742016 0.11496556\n",
      " 0.10917971 0.11003131 0.11251096 0.10770194 0.08926738 0.07854728\n",
      " 0.08919224 0.09833438 0.09908579 0.09665623 0.08328115 0.0841077\n",
      " 0.08050094 0.07889793 0.09054477 0.07899812 0.08909205 0.09244834\n",
      " 0.09272386 0.09154665 0.10126487 0.10672511 0.11396368 0.10647464\n",
      " 0.09507827 0.12247965 0.11646838 0.10973075 0.09565435 0.08025047\n",
      " 0.07899812 0.08035066 0.08180338 0.07020664 0.10026299 0.10735128\n",
      " 0.10379461 0.10820288 0.10507201 0.10990607 0.11133375 0.10311835\n",
      " 0.10855354 0.11078272 0.10336882 0.09362555 0.08598622 0.10316844\n",
      " 0.10386976 0.10261741 0.09966187 0.0903444  0.08541014 0.08969317\n",
      " 0.08846587 0.09430182 0.09675642 0.0910958  0.07428929 0.06930495\n",
      " 0.0639449  0.06376957 0.07165936 0.06359424 0.0626675  0.05808391\n",
      " 0.04809017 0.05703193 0.05783344 0.04566061 0.04889167 0.04553538\n",
      " 0.05705698 0.05838447 0.05983719 0.06675016 0.06654978 0.06993112\n",
      " 0.07288666 0.07105823 0.07120852 0.07772073 0.08583594 0.08939261\n",
      " 0.08262705 0.08537314 0.08776949 0.0898876  0.09181726 0.09362513\n",
      " 0.09535248 0.09702312 0.09865084 0.10024459]\n",
      "10 day output [[0.10181078]]\n",
      "11 day input [0.10985598 0.11932373 0.1253851  0.11742016 0.11496556 0.10917971\n",
      " 0.11003131 0.11251096 0.10770194 0.08926738 0.07854728 0.08919224\n",
      " 0.09833438 0.09908579 0.09665623 0.08328115 0.0841077  0.08050094\n",
      " 0.07889793 0.09054477 0.07899812 0.08909205 0.09244834 0.09272386\n",
      " 0.09154665 0.10126487 0.10672511 0.11396368 0.10647464 0.09507827\n",
      " 0.12247965 0.11646838 0.10973075 0.09565435 0.08025047 0.07899812\n",
      " 0.08035066 0.08180338 0.07020664 0.10026299 0.10735128 0.10379461\n",
      " 0.10820288 0.10507201 0.10990607 0.11133375 0.10311835 0.10855354\n",
      " 0.11078272 0.10336882 0.09362555 0.08598622 0.10316844 0.10386976\n",
      " 0.10261741 0.09966187 0.0903444  0.08541014 0.08969317 0.08846587\n",
      " 0.09430182 0.09675642 0.0910958  0.07428929 0.06930495 0.0639449\n",
      " 0.06376957 0.07165936 0.06359424 0.0626675  0.05808391 0.04809017\n",
      " 0.05703193 0.05783344 0.04566061 0.04889167 0.04553538 0.05705698\n",
      " 0.05838447 0.05983719 0.06675016 0.06654978 0.06993112 0.07288666\n",
      " 0.07105823 0.07120852 0.07772073 0.08583594 0.08939261 0.08262705\n",
      " 0.08537314 0.08776949 0.0898876  0.09181726 0.09362513 0.09535248\n",
      " 0.09702312 0.09865084 0.10024459 0.10181078]\n",
      "11 day output [[0.10335475]]\n",
      "12 day input [0.11932373 0.1253851  0.11742016 0.11496556 0.10917971 0.11003131\n",
      " 0.11251096 0.10770194 0.08926738 0.07854728 0.08919224 0.09833438\n",
      " 0.09908579 0.09665623 0.08328115 0.0841077  0.08050094 0.07889793\n",
      " 0.09054477 0.07899812 0.08909205 0.09244834 0.09272386 0.09154665\n",
      " 0.10126487 0.10672511 0.11396368 0.10647464 0.09507827 0.12247965\n",
      " 0.11646838 0.10973075 0.09565435 0.08025047 0.07899812 0.08035066\n",
      " 0.08180338 0.07020664 0.10026299 0.10735128 0.10379461 0.10820288\n",
      " 0.10507201 0.10990607 0.11133375 0.10311835 0.10855354 0.11078272\n",
      " 0.10336882 0.09362555 0.08598622 0.10316844 0.10386976 0.10261741\n",
      " 0.09966187 0.0903444  0.08541014 0.08969317 0.08846587 0.09430182\n",
      " 0.09675642 0.0910958  0.07428929 0.06930495 0.0639449  0.06376957\n",
      " 0.07165936 0.06359424 0.0626675  0.05808391 0.04809017 0.05703193\n",
      " 0.05783344 0.04566061 0.04889167 0.04553538 0.05705698 0.05838447\n",
      " 0.05983719 0.06675016 0.06654978 0.06993112 0.07288666 0.07105823\n",
      " 0.07120852 0.07772073 0.08583594 0.08939261 0.08262705 0.08537314\n",
      " 0.08776949 0.0898876  0.09181726 0.09362513 0.09535248 0.09702312\n",
      " 0.09865084 0.10024459 0.10181078 0.10335475]\n",
      "12 day output [[0.10488091]]\n",
      "13 day input [0.1253851  0.11742016 0.11496556 0.10917971 0.11003131 0.11251096\n",
      " 0.10770194 0.08926738 0.07854728 0.08919224 0.09833438 0.09908579\n",
      " 0.09665623 0.08328115 0.0841077  0.08050094 0.07889793 0.09054477\n",
      " 0.07899812 0.08909205 0.09244834 0.09272386 0.09154665 0.10126487\n",
      " 0.10672511 0.11396368 0.10647464 0.09507827 0.12247965 0.11646838\n",
      " 0.10973075 0.09565435 0.08025047 0.07899812 0.08035066 0.08180338\n",
      " 0.07020664 0.10026299 0.10735128 0.10379461 0.10820288 0.10507201\n",
      " 0.10990607 0.11133375 0.10311835 0.10855354 0.11078272 0.10336882\n",
      " 0.09362555 0.08598622 0.10316844 0.10386976 0.10261741 0.09966187\n",
      " 0.0903444  0.08541014 0.08969317 0.08846587 0.09430182 0.09675642\n",
      " 0.0910958  0.07428929 0.06930495 0.0639449  0.06376957 0.07165936\n",
      " 0.06359424 0.0626675  0.05808391 0.04809017 0.05703193 0.05783344\n",
      " 0.04566061 0.04889167 0.04553538 0.05705698 0.05838447 0.05983719\n",
      " 0.06675016 0.06654978 0.06993112 0.07288666 0.07105823 0.07120852\n",
      " 0.07772073 0.08583594 0.08939261 0.08262705 0.08537314 0.08776949\n",
      " 0.0898876  0.09181726 0.09362513 0.09535248 0.09702312 0.09865084\n",
      " 0.10024459 0.10181078 0.10335475 0.10488091]\n",
      "13 day output [[0.10639292]]\n",
      "14 day input [0.11742016 0.11496556 0.10917971 0.11003131 0.11251096 0.10770194\n",
      " 0.08926738 0.07854728 0.08919224 0.09833438 0.09908579 0.09665623\n",
      " 0.08328115 0.0841077  0.08050094 0.07889793 0.09054477 0.07899812\n",
      " 0.08909205 0.09244834 0.09272386 0.09154665 0.10126487 0.10672511\n",
      " 0.11396368 0.10647464 0.09507827 0.12247965 0.11646838 0.10973075\n",
      " 0.09565435 0.08025047 0.07899812 0.08035066 0.08180338 0.07020664\n",
      " 0.10026299 0.10735128 0.10379461 0.10820288 0.10507201 0.10990607\n",
      " 0.11133375 0.10311835 0.10855354 0.11078272 0.10336882 0.09362555\n",
      " 0.08598622 0.10316844 0.10386976 0.10261741 0.09966187 0.0903444\n",
      " 0.08541014 0.08969317 0.08846587 0.09430182 0.09675642 0.0910958\n",
      " 0.07428929 0.06930495 0.0639449  0.06376957 0.07165936 0.06359424\n",
      " 0.0626675  0.05808391 0.04809017 0.05703193 0.05783344 0.04566061\n",
      " 0.04889167 0.04553538 0.05705698 0.05838447 0.05983719 0.06675016\n",
      " 0.06654978 0.06993112 0.07288666 0.07105823 0.07120852 0.07772073\n",
      " 0.08583594 0.08939261 0.08262705 0.08537314 0.08776949 0.0898876\n",
      " 0.09181726 0.09362513 0.09535248 0.09702312 0.09865084 0.10024459\n",
      " 0.10181078 0.10335475 0.10488091 0.10639292]\n",
      "14 day output [[0.10789362]]\n",
      "15 day input [0.11496556 0.10917971 0.11003131 0.11251096 0.10770194 0.08926738\n",
      " 0.07854728 0.08919224 0.09833438 0.09908579 0.09665623 0.08328115\n",
      " 0.0841077  0.08050094 0.07889793 0.09054477 0.07899812 0.08909205\n",
      " 0.09244834 0.09272386 0.09154665 0.10126487 0.10672511 0.11396368\n",
      " 0.10647464 0.09507827 0.12247965 0.11646838 0.10973075 0.09565435\n",
      " 0.08025047 0.07899812 0.08035066 0.08180338 0.07020664 0.10026299\n",
      " 0.10735128 0.10379461 0.10820288 0.10507201 0.10990607 0.11133375\n",
      " 0.10311835 0.10855354 0.11078272 0.10336882 0.09362555 0.08598622\n",
      " 0.10316844 0.10386976 0.10261741 0.09966187 0.0903444  0.08541014\n",
      " 0.08969317 0.08846587 0.09430182 0.09675642 0.0910958  0.07428929\n",
      " 0.06930495 0.0639449  0.06376957 0.07165936 0.06359424 0.0626675\n",
      " 0.05808391 0.04809017 0.05703193 0.05783344 0.04566061 0.04889167\n",
      " 0.04553538 0.05705698 0.05838447 0.05983719 0.06675016 0.06654978\n",
      " 0.06993112 0.07288666 0.07105823 0.07120852 0.07772073 0.08583594\n",
      " 0.08939261 0.08262705 0.08537314 0.08776949 0.0898876  0.09181726\n",
      " 0.09362513 0.09535248 0.09702312 0.09865084 0.10024459 0.10181078\n",
      " 0.10335475 0.10488091 0.10639292 0.10789362]\n",
      "15 day output [[0.10938504]]\n",
      "16 day input [0.10917971 0.11003131 0.11251096 0.10770194 0.08926738 0.07854728\n",
      " 0.08919224 0.09833438 0.09908579 0.09665623 0.08328115 0.0841077\n",
      " 0.08050094 0.07889793 0.09054477 0.07899812 0.08909205 0.09244834\n",
      " 0.09272386 0.09154665 0.10126487 0.10672511 0.11396368 0.10647464\n",
      " 0.09507827 0.12247965 0.11646838 0.10973075 0.09565435 0.08025047\n",
      " 0.07899812 0.08035066 0.08180338 0.07020664 0.10026299 0.10735128\n",
      " 0.10379461 0.10820288 0.10507201 0.10990607 0.11133375 0.10311835\n",
      " 0.10855354 0.11078272 0.10336882 0.09362555 0.08598622 0.10316844\n",
      " 0.10386976 0.10261741 0.09966187 0.0903444  0.08541014 0.08969317\n",
      " 0.08846587 0.09430182 0.09675642 0.0910958  0.07428929 0.06930495\n",
      " 0.0639449  0.06376957 0.07165936 0.06359424 0.0626675  0.05808391\n",
      " 0.04809017 0.05703193 0.05783344 0.04566061 0.04889167 0.04553538\n",
      " 0.05705698 0.05838447 0.05983719 0.06675016 0.06654978 0.06993112\n",
      " 0.07288666 0.07105823 0.07120852 0.07772073 0.08583594 0.08939261\n",
      " 0.08262705 0.08537314 0.08776949 0.0898876  0.09181726 0.09362513\n",
      " 0.09535248 0.09702312 0.09865084 0.10024459 0.10181078 0.10335475\n",
      " 0.10488091 0.10639292 0.10789362 0.10938504]\n",
      "16 day output [[0.11086848]]\n",
      "17 day input [0.11003131 0.11251096 0.10770194 0.08926738 0.07854728 0.08919224\n",
      " 0.09833438 0.09908579 0.09665623 0.08328115 0.0841077  0.08050094\n",
      " 0.07889793 0.09054477 0.07899812 0.08909205 0.09244834 0.09272386\n",
      " 0.09154665 0.10126487 0.10672511 0.11396368 0.10647464 0.09507827\n",
      " 0.12247965 0.11646838 0.10973075 0.09565435 0.08025047 0.07899812\n",
      " 0.08035066 0.08180338 0.07020664 0.10026299 0.10735128 0.10379461\n",
      " 0.10820288 0.10507201 0.10990607 0.11133375 0.10311835 0.10855354\n",
      " 0.11078272 0.10336882 0.09362555 0.08598622 0.10316844 0.10386976\n",
      " 0.10261741 0.09966187 0.0903444  0.08541014 0.08969317 0.08846587\n",
      " 0.09430182 0.09675642 0.0910958  0.07428929 0.06930495 0.0639449\n",
      " 0.06376957 0.07165936 0.06359424 0.0626675  0.05808391 0.04809017\n",
      " 0.05703193 0.05783344 0.04566061 0.04889167 0.04553538 0.05705698\n",
      " 0.05838447 0.05983719 0.06675016 0.06654978 0.06993112 0.07288666\n",
      " 0.07105823 0.07120852 0.07772073 0.08583594 0.08939261 0.08262705\n",
      " 0.08537314 0.08776949 0.0898876  0.09181726 0.09362513 0.09535248\n",
      " 0.09702312 0.09865084 0.10024459 0.10181078 0.10335475 0.10488091\n",
      " 0.10639292 0.10789362 0.10938504 0.11086848]\n"
     ]
    },
    {
     "name": "stdout",
     "output_type": "stream",
     "text": [
      "17 day output [[0.11234451]]\n",
      "18 day input [0.11251096 0.10770194 0.08926738 0.07854728 0.08919224 0.09833438\n",
      " 0.09908579 0.09665623 0.08328115 0.0841077  0.08050094 0.07889793\n",
      " 0.09054477 0.07899812 0.08909205 0.09244834 0.09272386 0.09154665\n",
      " 0.10126487 0.10672511 0.11396368 0.10647464 0.09507827 0.12247965\n",
      " 0.11646838 0.10973075 0.09565435 0.08025047 0.07899812 0.08035066\n",
      " 0.08180338 0.07020664 0.10026299 0.10735128 0.10379461 0.10820288\n",
      " 0.10507201 0.10990607 0.11133375 0.10311835 0.10855354 0.11078272\n",
      " 0.10336882 0.09362555 0.08598622 0.10316844 0.10386976 0.10261741\n",
      " 0.09966187 0.0903444  0.08541014 0.08969317 0.08846587 0.09430182\n",
      " 0.09675642 0.0910958  0.07428929 0.06930495 0.0639449  0.06376957\n",
      " 0.07165936 0.06359424 0.0626675  0.05808391 0.04809017 0.05703193\n",
      " 0.05783344 0.04566061 0.04889167 0.04553538 0.05705698 0.05838447\n",
      " 0.05983719 0.06675016 0.06654978 0.06993112 0.07288666 0.07105823\n",
      " 0.07120852 0.07772073 0.08583594 0.08939261 0.08262705 0.08537314\n",
      " 0.08776949 0.0898876  0.09181726 0.09362513 0.09535248 0.09702312\n",
      " 0.09865084 0.10024459 0.10181078 0.10335475 0.10488091 0.10639292\n",
      " 0.10789362 0.10938504 0.11086848 0.11234451]\n",
      "18 day output [[0.11381324]]\n",
      "19 day input [0.10770194 0.08926738 0.07854728 0.08919224 0.09833438 0.09908579\n",
      " 0.09665623 0.08328115 0.0841077  0.08050094 0.07889793 0.09054477\n",
      " 0.07899812 0.08909205 0.09244834 0.09272386 0.09154665 0.10126487\n",
      " 0.10672511 0.11396368 0.10647464 0.09507827 0.12247965 0.11646838\n",
      " 0.10973075 0.09565435 0.08025047 0.07899812 0.08035066 0.08180338\n",
      " 0.07020664 0.10026299 0.10735128 0.10379461 0.10820288 0.10507201\n",
      " 0.10990607 0.11133375 0.10311835 0.10855354 0.11078272 0.10336882\n",
      " 0.09362555 0.08598622 0.10316844 0.10386976 0.10261741 0.09966187\n",
      " 0.0903444  0.08541014 0.08969317 0.08846587 0.09430182 0.09675642\n",
      " 0.0910958  0.07428929 0.06930495 0.0639449  0.06376957 0.07165936\n",
      " 0.06359424 0.0626675  0.05808391 0.04809017 0.05703193 0.05783344\n",
      " 0.04566061 0.04889167 0.04553538 0.05705698 0.05838447 0.05983719\n",
      " 0.06675016 0.06654978 0.06993112 0.07288666 0.07105823 0.07120852\n",
      " 0.07772073 0.08583594 0.08939261 0.08262705 0.08537314 0.08776949\n",
      " 0.0898876  0.09181726 0.09362513 0.09535248 0.09702312 0.09865084\n",
      " 0.10024459 0.10181078 0.10335475 0.10488091 0.10639292 0.10789362\n",
      " 0.10938504 0.11086848 0.11234451 0.11381324]\n",
      "19 day output [[0.11527428]]\n",
      "20 day input [0.08926738 0.07854728 0.08919224 0.09833438 0.09908579 0.09665623\n",
      " 0.08328115 0.0841077  0.08050094 0.07889793 0.09054477 0.07899812\n",
      " 0.08909205 0.09244834 0.09272386 0.09154665 0.10126487 0.10672511\n",
      " 0.11396368 0.10647464 0.09507827 0.12247965 0.11646838 0.10973075\n",
      " 0.09565435 0.08025047 0.07899812 0.08035066 0.08180338 0.07020664\n",
      " 0.10026299 0.10735128 0.10379461 0.10820288 0.10507201 0.10990607\n",
      " 0.11133375 0.10311835 0.10855354 0.11078272 0.10336882 0.09362555\n",
      " 0.08598622 0.10316844 0.10386976 0.10261741 0.09966187 0.0903444\n",
      " 0.08541014 0.08969317 0.08846587 0.09430182 0.09675642 0.0910958\n",
      " 0.07428929 0.06930495 0.0639449  0.06376957 0.07165936 0.06359424\n",
      " 0.0626675  0.05808391 0.04809017 0.05703193 0.05783344 0.04566061\n",
      " 0.04889167 0.04553538 0.05705698 0.05838447 0.05983719 0.06675016\n",
      " 0.06654978 0.06993112 0.07288666 0.07105823 0.07120852 0.07772073\n",
      " 0.08583594 0.08939261 0.08262705 0.08537314 0.08776949 0.0898876\n",
      " 0.09181726 0.09362513 0.09535248 0.09702312 0.09865084 0.10024459\n",
      " 0.10181078 0.10335475 0.10488091 0.10639292 0.10789362 0.10938504\n",
      " 0.11086848 0.11234451 0.11381324 0.11527428]\n",
      "20 day output [[0.11672695]]\n",
      "21 day input [0.07854728 0.08919224 0.09833438 0.09908579 0.09665623 0.08328115\n",
      " 0.0841077  0.08050094 0.07889793 0.09054477 0.07899812 0.08909205\n",
      " 0.09244834 0.09272386 0.09154665 0.10126487 0.10672511 0.11396368\n",
      " 0.10647464 0.09507827 0.12247965 0.11646838 0.10973075 0.09565435\n",
      " 0.08025047 0.07899812 0.08035066 0.08180338 0.07020664 0.10026299\n",
      " 0.10735128 0.10379461 0.10820288 0.10507201 0.10990607 0.11133375\n",
      " 0.10311835 0.10855354 0.11078272 0.10336882 0.09362555 0.08598622\n",
      " 0.10316844 0.10386976 0.10261741 0.09966187 0.0903444  0.08541014\n",
      " 0.08969317 0.08846587 0.09430182 0.09675642 0.0910958  0.07428929\n",
      " 0.06930495 0.0639449  0.06376957 0.07165936 0.06359424 0.0626675\n",
      " 0.05808391 0.04809017 0.05703193 0.05783344 0.04566061 0.04889167\n",
      " 0.04553538 0.05705698 0.05838447 0.05983719 0.06675016 0.06654978\n",
      " 0.06993112 0.07288666 0.07105823 0.07120852 0.07772073 0.08583594\n",
      " 0.08939261 0.08262705 0.08537314 0.08776949 0.0898876  0.09181726\n",
      " 0.09362513 0.09535248 0.09702312 0.09865084 0.10024459 0.10181078\n",
      " 0.10335475 0.10488091 0.10639292 0.10789362 0.10938504 0.11086848\n",
      " 0.11234451 0.11381324 0.11527428 0.11672695]\n",
      "21 day output [[0.11817046]]\n",
      "22 day input [0.08919224 0.09833438 0.09908579 0.09665623 0.08328115 0.0841077\n",
      " 0.08050094 0.07889793 0.09054477 0.07899812 0.08909205 0.09244834\n",
      " 0.09272386 0.09154665 0.10126487 0.10672511 0.11396368 0.10647464\n",
      " 0.09507827 0.12247965 0.11646838 0.10973075 0.09565435 0.08025047\n",
      " 0.07899812 0.08035066 0.08180338 0.07020664 0.10026299 0.10735128\n",
      " 0.10379461 0.10820288 0.10507201 0.10990607 0.11133375 0.10311835\n",
      " 0.10855354 0.11078272 0.10336882 0.09362555 0.08598622 0.10316844\n",
      " 0.10386976 0.10261741 0.09966187 0.0903444  0.08541014 0.08969317\n",
      " 0.08846587 0.09430182 0.09675642 0.0910958  0.07428929 0.06930495\n",
      " 0.0639449  0.06376957 0.07165936 0.06359424 0.0626675  0.05808391\n",
      " 0.04809017 0.05703193 0.05783344 0.04566061 0.04889167 0.04553538\n",
      " 0.05705698 0.05838447 0.05983719 0.06675016 0.06654978 0.06993112\n",
      " 0.07288666 0.07105823 0.07120852 0.07772073 0.08583594 0.08939261\n",
      " 0.08262705 0.08537314 0.08776949 0.0898876  0.09181726 0.09362513\n",
      " 0.09535248 0.09702312 0.09865084 0.10024459 0.10181078 0.10335475\n",
      " 0.10488091 0.10639292 0.10789362 0.10938504 0.11086848 0.11234451\n",
      " 0.11381324 0.11527428 0.11672695 0.11817046]\n",
      "22 day output [[0.11960388]]\n",
      "23 day input [0.09833438 0.09908579 0.09665623 0.08328115 0.0841077  0.08050094\n",
      " 0.07889793 0.09054477 0.07899812 0.08909205 0.09244834 0.09272386\n",
      " 0.09154665 0.10126487 0.10672511 0.11396368 0.10647464 0.09507827\n",
      " 0.12247965 0.11646838 0.10973075 0.09565435 0.08025047 0.07899812\n",
      " 0.08035066 0.08180338 0.07020664 0.10026299 0.10735128 0.10379461\n",
      " 0.10820288 0.10507201 0.10990607 0.11133375 0.10311835 0.10855354\n",
      " 0.11078272 0.10336882 0.09362555 0.08598622 0.10316844 0.10386976\n",
      " 0.10261741 0.09966187 0.0903444  0.08541014 0.08969317 0.08846587\n",
      " 0.09430182 0.09675642 0.0910958  0.07428929 0.06930495 0.0639449\n",
      " 0.06376957 0.07165936 0.06359424 0.0626675  0.05808391 0.04809017\n",
      " 0.05703193 0.05783344 0.04566061 0.04889167 0.04553538 0.05705698\n",
      " 0.05838447 0.05983719 0.06675016 0.06654978 0.06993112 0.07288666\n",
      " 0.07105823 0.07120852 0.07772073 0.08583594 0.08939261 0.08262705\n",
      " 0.08537314 0.08776949 0.0898876  0.09181726 0.09362513 0.09535248\n",
      " 0.09702312 0.09865084 0.10024459 0.10181078 0.10335475 0.10488091\n",
      " 0.10639292 0.10789362 0.10938504 0.11086848 0.11234451 0.11381324\n",
      " 0.11527428 0.11672695 0.11817046 0.11960388]\n",
      "23 day output [[0.12102633]]\n",
      "24 day input [0.09908579 0.09665623 0.08328115 0.0841077  0.08050094 0.07889793\n",
      " 0.09054477 0.07899812 0.08909205 0.09244834 0.09272386 0.09154665\n",
      " 0.10126487 0.10672511 0.11396368 0.10647464 0.09507827 0.12247965\n",
      " 0.11646838 0.10973075 0.09565435 0.08025047 0.07899812 0.08035066\n",
      " 0.08180338 0.07020664 0.10026299 0.10735128 0.10379461 0.10820288\n",
      " 0.10507201 0.10990607 0.11133375 0.10311835 0.10855354 0.11078272\n",
      " 0.10336882 0.09362555 0.08598622 0.10316844 0.10386976 0.10261741\n",
      " 0.09966187 0.0903444  0.08541014 0.08969317 0.08846587 0.09430182\n",
      " 0.09675642 0.0910958  0.07428929 0.06930495 0.0639449  0.06376957\n",
      " 0.07165936 0.06359424 0.0626675  0.05808391 0.04809017 0.05703193\n",
      " 0.05783344 0.04566061 0.04889167 0.04553538 0.05705698 0.05838447\n",
      " 0.05983719 0.06675016 0.06654978 0.06993112 0.07288666 0.07105823\n",
      " 0.07120852 0.07772073 0.08583594 0.08939261 0.08262705 0.08537314\n",
      " 0.08776949 0.0898876  0.09181726 0.09362513 0.09535248 0.09702312\n",
      " 0.09865084 0.10024459 0.10181078 0.10335475 0.10488091 0.10639292\n",
      " 0.10789362 0.10938504 0.11086848 0.11234451 0.11381324 0.11527428\n",
      " 0.11672695 0.11817046 0.11960388 0.12102633]\n",
      "24 day output [[0.122437]]\n",
      "25 day input [0.09665623 0.08328115 0.0841077  0.08050094 0.07889793 0.09054477\n",
      " 0.07899812 0.08909205 0.09244834 0.09272386 0.09154665 0.10126487\n",
      " 0.10672511 0.11396368 0.10647464 0.09507827 0.12247965 0.11646838\n",
      " 0.10973075 0.09565435 0.08025047 0.07899812 0.08035066 0.08180338\n",
      " 0.07020664 0.10026299 0.10735128 0.10379461 0.10820288 0.10507201\n",
      " 0.10990607 0.11133375 0.10311835 0.10855354 0.11078272 0.10336882\n",
      " 0.09362555 0.08598622 0.10316844 0.10386976 0.10261741 0.09966187\n",
      " 0.0903444  0.08541014 0.08969317 0.08846587 0.09430182 0.09675642\n",
      " 0.0910958  0.07428929 0.06930495 0.0639449  0.06376957 0.07165936\n",
      " 0.06359424 0.0626675  0.05808391 0.04809017 0.05703193 0.05783344\n",
      " 0.04566061 0.04889167 0.04553538 0.05705698 0.05838447 0.05983719\n",
      " 0.06675016 0.06654978 0.06993112 0.07288666 0.07105823 0.07120852\n",
      " 0.07772073 0.08583594 0.08939261 0.08262705 0.08537314 0.08776949\n",
      " 0.0898876  0.09181726 0.09362513 0.09535248 0.09702312 0.09865084\n",
      " 0.10024459 0.10181078 0.10335475 0.10488091 0.10639292 0.10789362\n",
      " 0.10938504 0.11086848 0.11234451 0.11381324 0.11527428 0.11672695\n",
      " 0.11817046 0.11960388 0.12102633 0.122437  ]\n"
     ]
    },
    {
     "name": "stdout",
     "output_type": "stream",
     "text": [
      "25 day output [[0.12383527]]\n",
      "26 day input [0.08328115 0.0841077  0.08050094 0.07889793 0.09054477 0.07899812\n",
      " 0.08909205 0.09244834 0.09272386 0.09154665 0.10126487 0.10672511\n",
      " 0.11396368 0.10647464 0.09507827 0.12247965 0.11646838 0.10973075\n",
      " 0.09565435 0.08025047 0.07899812 0.08035066 0.08180338 0.07020664\n",
      " 0.10026299 0.10735128 0.10379461 0.10820288 0.10507201 0.10990607\n",
      " 0.11133375 0.10311835 0.10855354 0.11078272 0.10336882 0.09362555\n",
      " 0.08598622 0.10316844 0.10386976 0.10261741 0.09966187 0.0903444\n",
      " 0.08541014 0.08969317 0.08846587 0.09430182 0.09675642 0.0910958\n",
      " 0.07428929 0.06930495 0.0639449  0.06376957 0.07165936 0.06359424\n",
      " 0.0626675  0.05808391 0.04809017 0.05703193 0.05783344 0.04566061\n",
      " 0.04889167 0.04553538 0.05705698 0.05838447 0.05983719 0.06675016\n",
      " 0.06654978 0.06993112 0.07288666 0.07105823 0.07120852 0.07772073\n",
      " 0.08583594 0.08939261 0.08262705 0.08537314 0.08776949 0.0898876\n",
      " 0.09181726 0.09362513 0.09535248 0.09702312 0.09865084 0.10024459\n",
      " 0.10181078 0.10335475 0.10488091 0.10639292 0.10789362 0.10938504\n",
      " 0.11086848 0.11234451 0.11381324 0.11527428 0.11672695 0.11817046\n",
      " 0.11960388 0.12102633 0.122437   0.12383527]\n",
      "26 day output [[0.12522058]]\n",
      "27 day input [0.0841077  0.08050094 0.07889793 0.09054477 0.07899812 0.08909205\n",
      " 0.09244834 0.09272386 0.09154665 0.10126487 0.10672511 0.11396368\n",
      " 0.10647464 0.09507827 0.12247965 0.11646838 0.10973075 0.09565435\n",
      " 0.08025047 0.07899812 0.08035066 0.08180338 0.07020664 0.10026299\n",
      " 0.10735128 0.10379461 0.10820288 0.10507201 0.10990607 0.11133375\n",
      " 0.10311835 0.10855354 0.11078272 0.10336882 0.09362555 0.08598622\n",
      " 0.10316844 0.10386976 0.10261741 0.09966187 0.0903444  0.08541014\n",
      " 0.08969317 0.08846587 0.09430182 0.09675642 0.0910958  0.07428929\n",
      " 0.06930495 0.0639449  0.06376957 0.07165936 0.06359424 0.0626675\n",
      " 0.05808391 0.04809017 0.05703193 0.05783344 0.04566061 0.04889167\n",
      " 0.04553538 0.05705698 0.05838447 0.05983719 0.06675016 0.06654978\n",
      " 0.06993112 0.07288666 0.07105823 0.07120852 0.07772073 0.08583594\n",
      " 0.08939261 0.08262705 0.08537314 0.08776949 0.0898876  0.09181726\n",
      " 0.09362513 0.09535248 0.09702312 0.09865084 0.10024459 0.10181078\n",
      " 0.10335475 0.10488091 0.10639292 0.10789362 0.10938504 0.11086848\n",
      " 0.11234451 0.11381324 0.11527428 0.11672695 0.11817046 0.11960388\n",
      " 0.12102633 0.122437   0.12383527 0.12522058]\n",
      "27 day output [[0.12659258]]\n",
      "28 day input [0.08050094 0.07889793 0.09054477 0.07899812 0.08909205 0.09244834\n",
      " 0.09272386 0.09154665 0.10126487 0.10672511 0.11396368 0.10647464\n",
      " 0.09507827 0.12247965 0.11646838 0.10973075 0.09565435 0.08025047\n",
      " 0.07899812 0.08035066 0.08180338 0.07020664 0.10026299 0.10735128\n",
      " 0.10379461 0.10820288 0.10507201 0.10990607 0.11133375 0.10311835\n",
      " 0.10855354 0.11078272 0.10336882 0.09362555 0.08598622 0.10316844\n",
      " 0.10386976 0.10261741 0.09966187 0.0903444  0.08541014 0.08969317\n",
      " 0.08846587 0.09430182 0.09675642 0.0910958  0.07428929 0.06930495\n",
      " 0.0639449  0.06376957 0.07165936 0.06359424 0.0626675  0.05808391\n",
      " 0.04809017 0.05703193 0.05783344 0.04566061 0.04889167 0.04553538\n",
      " 0.05705698 0.05838447 0.05983719 0.06675016 0.06654978 0.06993112\n",
      " 0.07288666 0.07105823 0.07120852 0.07772073 0.08583594 0.08939261\n",
      " 0.08262705 0.08537314 0.08776949 0.0898876  0.09181726 0.09362513\n",
      " 0.09535248 0.09702312 0.09865084 0.10024459 0.10181078 0.10335475\n",
      " 0.10488091 0.10639292 0.10789362 0.10938504 0.11086848 0.11234451\n",
      " 0.11381324 0.11527428 0.11672695 0.11817046 0.11960388 0.12102633\n",
      " 0.122437   0.12383527 0.12522058 0.12659258]\n",
      "28 day output [[0.12795101]]\n",
      "29 day input [0.07889793 0.09054477 0.07899812 0.08909205 0.09244834 0.09272386\n",
      " 0.09154665 0.10126487 0.10672511 0.11396368 0.10647464 0.09507827\n",
      " 0.12247965 0.11646838 0.10973075 0.09565435 0.08025047 0.07899812\n",
      " 0.08035066 0.08180338 0.07020664 0.10026299 0.10735128 0.10379461\n",
      " 0.10820288 0.10507201 0.10990607 0.11133375 0.10311835 0.10855354\n",
      " 0.11078272 0.10336882 0.09362555 0.08598622 0.10316844 0.10386976\n",
      " 0.10261741 0.09966187 0.0903444  0.08541014 0.08969317 0.08846587\n",
      " 0.09430182 0.09675642 0.0910958  0.07428929 0.06930495 0.0639449\n",
      " 0.06376957 0.07165936 0.06359424 0.0626675  0.05808391 0.04809017\n",
      " 0.05703193 0.05783344 0.04566061 0.04889167 0.04553538 0.05705698\n",
      " 0.05838447 0.05983719 0.06675016 0.06654978 0.06993112 0.07288666\n",
      " 0.07105823 0.07120852 0.07772073 0.08583594 0.08939261 0.08262705\n",
      " 0.08537314 0.08776949 0.0898876  0.09181726 0.09362513 0.09535248\n",
      " 0.09702312 0.09865084 0.10024459 0.10181078 0.10335475 0.10488091\n",
      " 0.10639292 0.10789362 0.10938504 0.11086848 0.11234451 0.11381324\n",
      " 0.11527428 0.11672695 0.11817046 0.11960388 0.12102633 0.122437\n",
      " 0.12383527 0.12522058 0.12659258 0.12795101]\n",
      "29 day output [[0.12929589]]\n",
      "[[0.08262705057859421], [0.08537314087152481], [0.08776949346065521], [0.0898876041173935], [0.09181725978851318], [0.09362512826919556], [0.09535247832536697], [0.0970231220126152], [0.09865084290504456], [0.10024458914995193], [0.10181077569723129], [0.10335475206375122], [0.1048809066414833], [0.10639292001724243], [0.10789361596107483], [0.10938503593206406], [0.11086848378181458], [0.11234451085329056], [0.11381324380636215], [0.11527428030967712], [0.11672694981098175], [0.11817046254873276], [0.11960387974977493], [0.12102632969617844], [0.1224370002746582], [0.12383527308702469], [0.12522058188915253], [0.12659257650375366], [0.1279510110616684], [0.12929588556289673]]\n"
     ]
    }
   ],
   "source": [
    "# demonstrate prediction for next 10 days\n",
    "from numpy import array\n",
    "\n",
    "lst_output=[]\n",
    "n_steps=100\n",
    "i=0\n",
    "while(i<30):\n",
    "    \n",
    "    if(len(temp_input)>100):\n",
    "        #print(temp_input)\n",
    "        x_input=np.array(temp_input[1:])\n",
    "        print(\"{} day input {}\".format(i,x_input))\n",
    "        x_input=x_input.reshape(1,-1)\n",
    "        x_input = x_input.reshape((1, n_steps, 1))\n",
    "        #print(x_input)\n",
    "        yhat = model.predict(x_input, verbose=0)\n",
    "        print(\"{} day output {}\".format(i,yhat))\n",
    "        temp_input.extend(yhat[0].tolist())\n",
    "        temp_input=temp_input[1:]\n",
    "        #print(temp_input)\n",
    "        lst_output.extend(yhat.tolist())\n",
    "        i=i+1\n",
    "    else:\n",
    "        x_input = x_input.reshape((1, n_steps,1))\n",
    "        yhat = model.predict(x_input, verbose=0)\n",
    "        print(yhat[0])\n",
    "        temp_input.extend(yhat[0].tolist())\n",
    "        print(len(temp_input))\n",
    "        lst_output.extend(yhat.tolist())\n",
    "        i=i+1\n",
    "    \n",
    "\n",
    "print(lst_output)"
   ]
  },
  {
   "cell_type": "code",
   "execution_count": 51,
   "id": "5b669006",
   "metadata": {},
   "outputs": [],
   "source": [
    "day_new=np.arange(1,101)\n",
    "day_pred=np.arange(101,131)"
   ]
  },
  {
   "cell_type": "code",
   "execution_count": 52,
   "id": "dd34b92f",
   "metadata": {},
   "outputs": [],
   "source": [
    "import matplotlib.pyplot as plt"
   ]
  },
  {
   "cell_type": "code",
   "execution_count": 54,
   "id": "b41cb717",
   "metadata": {},
   "outputs": [
    {
     "data": {
      "text/plain": [
       "1257"
      ]
     },
     "execution_count": 54,
     "metadata": {},
     "output_type": "execute_result"
    }
   ],
   "source": [
    "len(df2)"
   ]
  },
  {
   "cell_type": "code",
   "execution_count": 57,
   "id": "798257b8",
   "metadata": {},
   "outputs": [
    {
     "data": {
      "text/plain": [
       "[<matplotlib.lines.Line2D at 0x1a336daedf0>]"
      ]
     },
     "execution_count": 57,
     "metadata": {},
     "output_type": "execute_result"
    },
    {
     "data": {
      "image/png": "[encoded data removed]",
      "text/plain": [
       "<Figure size 432x288 with 1 Axes>"
      ]
     },
     "metadata": {
      "needs_background": "light"
     },
     "output_type": "display_data"
    }
   ],
   "source": [
    "plt.plot(day_new,scaler.inverse_transform(df2[1157:]))\n",
    "plt.plot(day_pred,scaler.inverse_transform(lst_output))"
   ]
  },
  {
   "cell_type": "code",
   "execution_count": 59,
   "id": "e7ab2a0e",
   "metadata": {},
   "outputs": [
    {
     "data": {
      "text/plain": [
       "[<matplotlib.lines.Line2D at 0x1a336e52340>]"
      ]
     },
     "execution_count": 59,
     "metadata": {},
     "output_type": "execute_result"
    },
    {
     "data": {
      "image/png": "[encoded data removed]",
      "text/plain": [
       "<Figure size 432x288 with 1 Axes>"
      ]
     },
     "metadata": {
      "needs_background": "light"
     },
     "output_type": "display_data"
    }
   ],
   "source": [
    "df3=df2.tolist()\n",
    "df3.extend(lst_output)\n",
    "plt.plot(df3[1200:])"
   ]
  },
  {
   "cell_type": "code",
   "execution_count": 60,
   "id": "382c04b2",
   "metadata": {},
   "outputs": [],
   "source": [
    "df3=scaler.inverse_transform(df3).tolist()"
   ]
  },
  {
   "cell_type": "code",
   "execution_count": 61,
   "id": "b9e80504",
   "metadata": {},
   "outputs": [
    {
     "data": {
      "text/plain": [
       "[<matplotlib.lines.Line2D at 0x1a336e94250>]"
      ]
     },
     "execution_count": 61,
     "metadata": {},
     "output_type": "execute_result"
    },
    {
     "data": {
      "image/png": "[encoded data removed]",
      "text/plain": [
       "<Figure size 432x288 with 1 Axes>"
      ]
     },
     "metadata": {
      "needs_background": "light"
     },
     "output_type": "display_data"
    }
   ],
   "source": [
    "\n",
    "plt.plot(df3)"
   ]
  },
  {
   "cell_type": "code",
   "execution_count": null,
   "id": "35ffa5ac",
   "metadata": {},
   "outputs": [],
   "source": []
  }
 ],
 "metadata": {
  "kernelspec": {
   "display_name": "Python 3 (ipykernel)",
   "language": "python",
   "name": "python3"
  },
  "language_info": {
   "codemirror_mode": {
    "name": "ipython",
    "version": 3
   },
   "file_extension": ".py",
   "mimetype": "text/x-python",
   "name": "python",
   "nbconvert_exporter": "python",
   "pygments_lexer": "ipython3",
   "version": "3.9.12"
  }
 },
 "nbformat": 4,
 "nbformat_minor": 5
}
